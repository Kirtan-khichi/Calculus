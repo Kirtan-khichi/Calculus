{
  "cells": [
    {
      "cell_type": "markdown",
      "metadata": {
        "id": "view-in-github",
        "colab_type": "text"
      },
      "source": [
        "<a href=\"https://colab.research.google.com/github/Kirtan-khichi/Calculus/blob/main/damping1.ipynb\" target=\"_parent\"><img src=\"https://colab.research.google.com/assets/colab-badge.svg\" alt=\"Open In Colab\"/></a>"
      ]
    },
    {
      "cell_type": "code",
      "execution_count": 2,
      "metadata": {
        "id": "MsWwNfv4sTtt"
      },
      "outputs": [],
      "source": [
        "import math\n",
        "import plotly.express as px\n",
        "import matplotlib.pyplot as plt"
      ]
    },
    {
      "cell_type": "code",
      "execution_count": null,
      "metadata": {
        "id": "p56egMm9k26a"
      },
      "outputs": [],
      "source": [
        "A = float(input('Enter A: '))\n",
        "B = float(input('Enter B: '))\n",
        "C = float(input('Enter C: '))\n",
        "x = float(input('Enter X0: '))\n",
        "v = float(input('Enter V0: '))"
      ]
    },
    {
      "cell_type": "code",
      "source": [
        "# This is for Criticle case.\n",
        "A = 1\n",
        "B = 2\n",
        "C = 1\n",
        "x = 10\n",
        "v = 10"
      ],
      "metadata": {
        "id": "XDX7TfY0agas"
      },
      "execution_count": 3,
      "outputs": []
    },
    {
      "cell_type": "code",
      "execution_count": 4,
      "metadata": {
        "id": "LAJfWK_Yk5fK"
      },
      "outputs": [],
      "source": [
        "def kindOfDamping(A, B, C):\n",
        "  \"\"\"\n",
        "  Return: The kind of damping(over, under, critical)\n",
        "\n",
        "  Parameter A: coefficient of degree 2 variable.\n",
        "  Precondition: It must be a number only(int, Float).\n",
        "\n",
        "  Parameter B: Coefficient of degree 1 Variable.\n",
        "  Precondition: It must be a number only.(int, float).\n",
        "\n",
        "  Parameter C: Coefficient of constant.\n",
        "  Precondition: It must be a number only.(int, float).\n",
        "  \"\"\"\n",
        "  if B ** 2 - 4*A*C > 0:\n",
        "      return 'OVER'\n",
        "  elif B ** 2 - 4*A*C == 0 :\n",
        "      return 'CRITICAL'\n",
        "  else:\n",
        "      return 'UNDER'\n",
        "    "
      ]
    },
    {
      "cell_type": "code",
      "execution_count": 5,
      "metadata": {
        "colab": {
          "base_uri": "https://localhost:8080/"
        },
        "id": "YZZc5Eqpk8ua",
        "outputId": "7da02766-f1bd-43cc-eb0d-39f25bb9b978"
      },
      "outputs": [
        {
          "output_type": "stream",
          "name": "stdout",
          "text": [
            "CRITICAL\n"
          ]
        }
      ],
      "source": [
        "print(kindOfDamping(A, B, C))"
      ]
    },
    {
      "cell_type": "code",
      "execution_count": 6,
      "metadata": {
        "id": "S1WSmvQVuN2N",
        "colab": {
          "base_uri": "https://localhost:8080/"
        },
        "outputId": "a3246133-a80a-46fe-94df-863622d37700"
      },
      "outputs": [
        {
          "output_type": "stream",
          "name": "stdout",
          "text": [
            "0\n",
            "1.0 0.0 -1.0 -1.0\n"
          ]
        }
      ],
      "source": [
        "D = B**2-4*A*C\n",
        "print(D)\n",
        "alpha = B/(2*A)                                        # Value of Alpha.\n",
        "beta = (abs((B**2)/(4*A**2)-(C/A)))**0.5               # Value of Beta.\n",
        "a1 = (-B + D**0.5)/2*A                                 # Root of Equation.\n",
        "a2 = (-B - D**0.5)/2*A                                 # Root of Equation.\n",
        "print(alpha, beta, a1, a2) "
      ]
    },
    {
      "cell_type": "code",
      "execution_count": 7,
      "metadata": {
        "id": "DaDcujTNd3o9"
      },
      "outputs": [],
      "source": [
        "T = [i / 10 for i in range(100)]"
      ]
    },
    {
      "cell_type": "code",
      "execution_count": 8,
      "metadata": {
        "id": "N33ijYcVvRoi"
      },
      "outputs": [],
      "source": [
        "def graph(x_0, v_0):\n",
        "  \"\"\"\n",
        "  Return: A list of roots of the Damping Equation.\n",
        "\n",
        "  Parameter x_0: It's a initial value of x(0).\n",
        "  Precondition: It must be a numeric value.\n",
        "\n",
        "  Parameter v_0: It's a initial condition of x'(0).\n",
        "  Precondition: It must be a numeric value.\n",
        "  \"\"\"\n",
        "  if kindOfDamping(A, B, C) == 'OVER' :\n",
        "    x1 = []                                 # Accumalator \n",
        "    \n",
        "    for t in T:\n",
        "      d1 = (v_0 - x_0*a1) / (a1 - a2)\n",
        "      d2 = (v_0 - x_0*a2) / (a2 - a1)\n",
        "      X = (d1 * math.exp(( - alpha + beta) * t) + d2 * math.exp(( - alpha - beta) * t))   \n",
        "      x1.append(X)\n",
        "\n",
        "  elif kindOfDamping(A, B, C) == 'CRITICAL' :\n",
        "    x1 = []                                 # Accumalator \n",
        "\n",
        "    for t in T:\n",
        "      X = math.exp( - B * t / (2 * A)) * (x_0 + (v_0 - a1 * x_0) * t)\n",
        "      x1.append(X)\n",
        "\n",
        "  else:\n",
        "    x1 = []                                 # Accumalator \n",
        "\n",
        "    for t in T:\n",
        "      X = math.exp( - alpha * t) * (x_0 * math.cos(beta * t) + ((v_0 + alpha * x_0) * math.sin(beta * t) / beta))\n",
        "      x1.append(X)\n",
        "\n",
        "  return x1\n",
        "\n"
      ]
    },
    {
      "cell_type": "code",
      "execution_count": 9,
      "metadata": {
        "id": "VzRpECJqlSXW",
        "colab": {
          "base_uri": "https://localhost:8080/",
          "height": 282
        },
        "outputId": "ad3114f3-a582-4c88-d8d3-94dc27d1d2dc"
      },
      "outputs": [
        {
          "output_type": "stream",
          "name": "stdout",
          "text": [
            "CRITICLE DAMPING\n"
          ]
        },
        {
          "output_type": "display_data",
          "data": {
            "text/plain": [
              "<Figure size 432x288 with 1 Axes>"
            ],
            "image/png": "[encoded data removed]"
          },
          "metadata": {
            "needs_background": "light"
          }
        }
      ],
      "source": [
        "plt.plot(T, graph(x, v))\n",
        "\n",
        "print('CRITICLE DAMPING')\n",
        "\n",
        "# This Graph for Criticle damping."
      ]
    },
    {
      "cell_type": "code",
      "source": [
        "# This is for Over-Damping case.\n",
        "A = 1\n",
        "B = 19\n",
        "C = 90\n",
        "x = 1\n",
        "v = 100\n",
        "print('This is', kindOfDamping(A, B, C))"
      ],
      "metadata": {
        "colab": {
          "base_uri": "https://localhost:8080/"
        },
        "id": "WXIr6qFCfjGD",
        "outputId": "470ef999-3f98-4de1-ea2e-fbeedd19846a"
      },
      "execution_count": 10,
      "outputs": [
        {
          "output_type": "stream",
          "name": "stdout",
          "text": [
            "This is OVER\n"
          ]
        }
      ]
    },
    {
      "cell_type": "code",
      "source": [
        "D = B**2-4*A*C\n",
        "print(D)\n",
        "alpha = B/(2*A)                                        # Value of Alpha.\n",
        "beta = (abs((B**2)/(4*A**2)-(C/A)))**0.5               # Value of Beta.\n",
        "a1 = (-B + D**0.5)/2*A                                 # Root of Equation.\n",
        "a2 = (-B - D**0.5)/2*A                                 # Root of Equation.\n",
        "print(alpha, beta, a1, a2) "
      ],
      "metadata": {
        "colab": {
          "base_uri": "https://localhost:8080/"
        },
        "id": "DxvR2QFufPLf",
        "outputId": "ada637b7-4550-4ea7-8869-401631983ca1"
      },
      "execution_count": 11,
      "outputs": [
        {
          "output_type": "stream",
          "name": "stdout",
          "text": [
            "1\n",
            "9.5 0.5 -9.0 -10.0\n"
          ]
        }
      ]
    },
    {
      "cell_type": "code",
      "source": [
        "T = [i / 100 for i in range(100)]"
      ],
      "metadata": {
        "id": "1An-dwJJhLWm"
      },
      "execution_count": 12,
      "outputs": []
    },
    {
      "cell_type": "code",
      "source": [
        "plt.plot(T, graph(x, v))\n",
        "\n",
        "print('OVER DAMPING')\n",
        "\n",
        "# This Graph for Over-Damping damping."
      ],
      "metadata": {
        "colab": {
          "base_uri": "https://localhost:8080/",
          "height": 282
        },
        "id": "y5oXMBPifW0l",
        "outputId": "a90283bb-f4b2-4020-d1a8-035749b55103"
      },
      "execution_count": 13,
      "outputs": [
        {
          "output_type": "stream",
          "name": "stdout",
          "text": [
            "OVER DAMPING\n"
          ]
        },
        {
          "output_type": "display_data",
          "data": {
            "text/plain": [
              "<Figure size 432x288 with 1 Axes>"
            ],
            "image/png": "[encoded data removed]"
          },
          "metadata": {
            "needs_background": "light"
          }
        }
      ]
    },
    {
      "cell_type": "code",
      "source": [
        "# This is for Under-Damping case.\n",
        "A = 1\n",
        "B = 2\n",
        "C = 90\n",
        "x = 100\n",
        "v = -100\n",
        "print('This is', kindOfDamping(A, B, C), 'Damping')"
      ],
      "metadata": {
        "colab": {
          "base_uri": "https://localhost:8080/"
        },
        "id": "d2mKc8ZhiEF4",
        "outputId": "c20f4a23-635d-4382-f431-45f86cd2deac"
      },
      "execution_count": 14,
      "outputs": [
        {
          "output_type": "stream",
          "name": "stdout",
          "text": [
            "This is UNDER Damping\n"
          ]
        }
      ]
    },
    {
      "cell_type": "code",
      "source": [
        "D = B**2-4*A*C\n",
        "alpha = B/(2*A)                                        # Value of Alpha.\n",
        "beta = (abs((B**2)/(4*A**2)-(C/A)))**0.5               # Value of Beta.\n",
        "a1 = (-B + D**0.5)/2*A                                 # Root of Equation.\n",
        "a2 = (-B - D**0.5)/2*A                                 # Root of Equation. "
      ],
      "metadata": {
        "id": "AwNybeYTiXHS"
      },
      "execution_count": 15,
      "outputs": []
    },
    {
      "cell_type": "code",
      "source": [
        "T = [i / 100 for i in range(1000)]"
      ],
      "metadata": {
        "id": "6CH0Y2-_i-am"
      },
      "execution_count": 16,
      "outputs": []
    },
    {
      "cell_type": "code",
      "source": [
        "plt.plot(T, graph(x, v))\n",
        "\n",
        "print('UNDER DAMPING')\n",
        "\n",
        "# This Graph for Under-Damping damping."
      ],
      "metadata": {
        "colab": {
          "base_uri": "https://localhost:8080/",
          "height": 282
        },
        "id": "Fr2crYGMihYU",
        "outputId": "a2287eae-0f07-4c6b-cb27-160bbc290bf3"
      },
      "execution_count": 17,
      "outputs": [
        {
          "output_type": "stream",
          "name": "stdout",
          "text": [
            "UNDER DAMPING\n"
          ]
        },
        {
          "output_type": "display_data",
          "data": {
            "text/plain": [
              "<Figure size 432x288 with 1 Axes>"
            ],
            "image/png": "[encoded data removed]"
          },
          "metadata": {
            "needs_background": "light"
          }
        }
      ]
    }
  ],
  "metadata": {
    "colab": {
      "provenance": [],
      "include_colab_link": true
    },
    "kernelspec": {
      "display_name": "Python 3",
      "name": "python3"
    },
    "language_info": {
      "name": "python"
    }
  },
  "nbformat": 4,
  "nbformat_minor": 0
}