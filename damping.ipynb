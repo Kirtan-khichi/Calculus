{
  "cells": [
    {
      "cell_type": "markdown",
      "metadata": {
        "id": "view-in-github",
        "colab_type": "text"
      },
      "source": [
        "<a href=\"https://colab.research.google.com/github/Kirtan-khichi/Calculus/blob/main/damping.ipynb\" target=\"_parent\"><img src=\"https://colab.research.google.com/assets/colab-badge.svg\" alt=\"Open In Colab\"/></a>"
      ]
    },
    {
      "cell_type": "code",
      "execution_count": null,
      "metadata": {
        "id": "MsWwNfv4sTtt"
      },
      "outputs": [],
      "source": [
        "import math\n",
        "import plotly.express as px"
      ]
    },
    {
      "cell_type": "code",
      "execution_count": null,
      "metadata": {
        "id": "p56egMm9k26a"
      },
      "outputs": [],
      "source": [
        "A = float(input('Enter A: '))\n",
        "B = float(input('Enter B: '))\n",
        "C = float(input('Enter C: '))\n",
        "x = float(input('Enter X0: '))\n",
        "v = float(input('Enter V0: '))"
      ]
    },
    {
      "cell_type": "code",
      "source": [
        "# This is for Criticle case.\n",
        "A = 1\n",
        "B = 2\n",
        "C = 1\n",
        "x = 10\n",
        "v = 10"
      ],
      "metadata": {
        "id": "XDX7TfY0agas"
      },
      "execution_count": null,
      "outputs": []
    },
    {
      "cell_type": "code",
      "execution_count": null,
      "metadata": {
        "id": "LAJfWK_Yk5fK"
      },
      "outputs": [],
      "source": [
        "def kindOfDamping(A, B, C):\n",
        "  \"\"\"\n",
        "  Return: The kind of damping(over, under, critical)\n",
        "\n",
        "  Parameter A: coefficient of degree 2 variable.\n",
        "  Precondition: It must be a number only(int, Float).\n",
        "\n",
        "  Parameter B: Coefficient of degree 1 Variable.\n",
        "  Precondition: It must be a number only.(int, float).\n",
        "\n",
        "  Parameter C: Coefficient of constant.\n",
        "  Precondition: It must be a number only.(int, float).\n",
        "  \"\"\"\n",
        "  if B ** 2 - 4*A*C > 0:\n",
        "      return 'OVER'\n",
        "  elif B ** 2 - 4*A*C == 0 :\n",
        "      return 'CRITICAL'\n",
        "  else:\n",
        "      return 'UNDER'\n",
        "    "
      ]
    },
    {
      "cell_type": "code",
      "execution_count": null,
      "metadata": {
        "colab": {
          "base_uri": "https://localhost:8080/"
        },
        "id": "YZZc5Eqpk8ua",
        "outputId": "c8181325-54a6-4860-cef7-7877d4bb4ed5"
      },
      "outputs": [
        {
          "output_type": "stream",
          "name": "stdout",
          "text": [
            "CRITICAL\n"
          ]
        }
      ],
      "source": [
        "print(kindOfDamping(A, B, C))"
      ]
    },
    {
      "cell_type": "code",
      "execution_count": null,
      "metadata": {
        "id": "S1WSmvQVuN2N",
        "colab": {
          "base_uri": "https://localhost:8080/"
        },
        "outputId": "7e4de30d-73ba-4096-8ac7-f4d9c71bac14"
      },
      "outputs": [
        {
          "output_type": "stream",
          "name": "stdout",
          "text": [
            "0\n",
            "1.0 0.0 -1.0 -1.0\n"
          ]
        }
      ],
      "source": [
        "D = B**2-4*A*C\n",
        "print(D)\n",
        "alpha = B/(2*A)                                        # Value of Alpha.\n",
        "beta = (abs((B**2)/(4*A**2)-(C/A)))**0.5               # Value of Beta.\n",
        "a1 = (-B + D**0.5)/2*A                                 # Root of Equation.\n",
        "a2 = (-B - D**0.5)/2*A                                 # Root of Equation.\n",
        "print(alpha, beta, a1, a2) "
      ]
    },
    {
      "cell_type": "code",
      "execution_count": null,
      "metadata": {
        "id": "DaDcujTNd3o9"
      },
      "outputs": [],
      "source": [
        "T = [i / 10 for i in range(100)]"
      ]
    },
    {
      "cell_type": "code",
      "execution_count": null,
      "metadata": {
        "id": "N33ijYcVvRoi"
      },
      "outputs": [],
      "source": [
        "def graph(x_0, v_0):\n",
        "  \"\"\"\n",
        "  Return: A list of roots of the Damping Equation.\n",
        "\n",
        "  Parameter x_0: It's a initial value of x(0).\n",
        "  Precondition: It must be a numeric value.\n",
        "\n",
        "  Parameter v_0: It's a initial condition of x'(0).\n",
        "  Precondition: It must be a numeric value.\n",
        "  \"\"\"\n",
        "  if kindOfDamping(A, B, C) == 'OVER' :\n",
        "    x1 = []                                 # Accumalator \n",
        "    \n",
        "    for t in T:\n",
        "      d1 = (v_0 - x_0*a1) / (a1 - a2)\n",
        "      d2 = (v_0 - x_0*a2) / (a2 - a1)\n",
        "      X = (d1 * math.exp(( - alpha + beta) * t) + d2 * math.exp(( - alpha - beta) * t))   \n",
        "      x1.append(X)\n",
        "\n",
        "  elif kindOfDamping(A, B, C) == 'CRITICAL' :\n",
        "    x1 = []                                 # Accumalator \n",
        "\n",
        "    for t in T:\n",
        "      X = math.exp( - B * t / (2 * A)) * (x_0 + (v_0 - a1 * x_0) * t)\n",
        "      x1.append(X)\n",
        "\n",
        "  else:\n",
        "    x1 = []                                 # Accumalator \n",
        "\n",
        "    for t in T:\n",
        "      X = math.exp( - alpha * t) * (x_0 * math.cos(beta * t) + ((v_0 + alpha * x_0) * math.sin(beta * t) / beta))\n",
        "      x1.append(X)\n",
        "\n",
        "  return x1\n",
        "\n"
      ]
    },
    {
      "cell_type": "code",
      "execution_count": null,
      "metadata": {
        "id": "VzRpECJqlSXW",
        "colab": {
          "base_uri": "https://localhost:8080/",
          "height": 559
        },
        "outputId": "dd5aa30f-cc9c-4c0f-c1c3-b2f81b3116c6"
      },
      "outputs": [
        {
          "output_type": "display_data",
          "data": {
            "text/html": [
              "<html>\n",
              "<head><meta charset=\"utf-8\" /></head>\n",
              "<body>\n",
              "    <div>            <script src=\"https://cdnjs.cloudflare.com/ajax/libs/mathjax/2.7.5/MathJax.js?config=TeX-AMS-MML_SVG\"></script><script type=\"text/javascript\">if (window.MathJax) {MathJax.Hub.Config({SVG: {font: \"STIX-Web\"}});}</script>                <script type=\"text/javascript\">window.PlotlyConfig = {MathJaxConfig: 'local'};</script>\n",
              "        <script src=\"https://cdn.plot.ly/plotly-2.8.3.min.js\"></script>                <div id=\"83de953d-e361-4593-b1f7-590ee7a84206\" class=\"plotly-graph-div\" style=\"height:525px; width:100%;\"></div>            <script type=\"text/javascript\">                                    window.PLOTLYENV=window.PLOTLYENV || {};                                    if (document.getElementById(\"83de953d-e361-4593-b1f7-590ee7a84206\")) {                    Plotly.newPlot(                        \"83de953d-e361-4593-b1f7-590ee7a84206\",                        [{\"hovertemplate\":\"x=%{x}<br>y=%{y}<extra></extra>\",\"legendgroup\":\"\",\"line\":{\"color\":\"#636efa\",\"dash\":\"solid\"},\"marker\":{\"symbol\":\"circle\"},\"mode\":\"lines\",\"name\":\"\",\"orientation\":\"v\",\"showlegend\":false,\"x\":[0.0,0.1,0.2,0.3,0.4,0.5,0.6,0.7,0.8,0.9,1.0,1.1,1.2,1.3,1.4,1.5,1.6,1.7,1.8,1.9,2.0,2.1,2.2,2.3,2.4,2.5,2.6,2.7,2.8,2.9,3.0,3.1,3.2,3.3,3.4,3.5,3.6,3.7,3.8,3.9,4.0,4.1,4.2,4.3,4.4,4.5,4.6,4.7,4.8,4.9,5.0,5.1,5.2,5.3,5.4,5.5,5.6,5.7,5.8,5.9,6.0,6.1,6.2,6.3,6.4,6.5,6.6,6.7,6.8,6.9,7.0,7.1,7.2,7.3,7.4,7.5,7.6,7.7,7.8,7.9,8.0,8.1,8.2,8.3,8.4,8.5,8.6,8.7,8.8,8.9,9.0,9.1,9.2,9.3,9.4,9.5,9.6,9.7,9.8,9.9],\"xaxis\":\"x\",\"y\":[10.0,10.858049016431515,11.462230543091746,11.853091530907486,12.065760828641508,12.130613194252668,12.07385599406858,11.91804729099383,11.68255306704776,11.383950472736775,11.03638323514327,10.651874678338546,10.240603205014873,9.811144549224453,9.370684629781046,8.925206405937192,8.479653755775526,8.038075058320326,7.60374885819298,7.179293722686483,6.766764161830635,6.367734269155059,5.983370551566029,5.614495248477009,5.261641290785926,4.925099917433928,4.6049618492887,4.301152815343984,4.013464133264386,3.7415789638356918,3.485094785750476,3.2435425723361617,3.0164030943990996,2.803120722494241,2.603115056905434,2.41579067378548,2.24054524067799,2.0767762235085088,1.9238863796302417,1.7812882072307865,1.648407499986076,1.5246861369620355,1.4095842211249041,1.3025816651712896,1.2031793105007067,1.1108996538242306,1.0252872459526259,0.9459088185763648,0.8723531871961232,0.8042309716598285,0.7411741698994013,0.6828356153377515,0.628888343966728,0.5790248932015851,0.5329565512282946,0.490412572615688,0.4511393734109177,0.4148997167264377,0.38147189791735275,0.35064893680235115,0.3222377829666266,0.29605853897212603,0.2719437052636284,0.24973744967593137,0.22929490369800287,0.21048148701686012,0.19317226133180093,0.17725131398498126,0.16261117158534127,0.14915224349917955,0.13678229483317744,0.1254159483364175,0.1149742144900086,0.10538404893023973,0.09657793625847243,0.08849349922365338,0.08107313221737895,0.0742636579934347,0.06801600651064461,0.06228491479712682,0.05702864674342702,0.052208731749565085,0.0477897211751528,0.043738961570999525,0.04002638370383498,0.03662430642191595,0.03350725444749941,0.03065178922172457,0.02803635196775863,0.025641118178618142,0.023447862776469118,0.02143983523010204,0.019601643956396124,0.01791914936972196,0.016379364980213182,0.01497036597754012,0.013681204771152488,0.012501832990857316,0.01142302948302845,0.010436333867684458],\"yaxis\":\"y\",\"type\":\"scatter\"}],                        {\"template\":{\"data\":{\"bar\":[{\"error_x\":{\"color\":\"#2a3f5f\"},\"error_y\":{\"color\":\"#2a3f5f\"},\"marker\":{\"line\":{\"color\":\"#E5ECF6\",\"width\":0.5},\"pattern\":{\"fillmode\":\"overlay\",\"size\":10,\"solidity\":0.2}},\"type\":\"bar\"}],\"barpolar\":[{\"marker\":{\"line\":{\"color\":\"#E5ECF6\",\"width\":0.5},\"pattern\":{\"fillmode\":\"overlay\",\"size\":10,\"solidity\":0.2}},\"type\":\"barpolar\"}],\"carpet\":[{\"aaxis\":{\"endlinecolor\":\"#2a3f5f\",\"gridcolor\":\"white\",\"linecolor\":\"white\",\"minorgridcolor\":\"white\",\"startlinecolor\":\"#2a3f5f\"},\"baxis\":{\"endlinecolor\":\"#2a3f5f\",\"gridcolor\":\"white\",\"linecolor\":\"white\",\"minorgridcolor\":\"white\",\"startlinecolor\":\"#2a3f5f\"},\"type\":\"carpet\"}],\"choropleth\":[{\"colorbar\":{\"outlinewidth\":0,\"ticks\":\"\"},\"type\":\"choropleth\"}],\"contour\":[{\"colorbar\":{\"outlinewidth\":0,\"ticks\":\"\"},\"colorscale\":[[0.0,\"#0d0887\"],[0.1111111111111111,\"#46039f\"],[0.2222222222222222,\"#7201a8\"],[0.3333333333333333,\"#9c179e\"],[0.4444444444444444,\"#bd3786\"],[0.5555555555555556,\"#d8576b\"],[0.6666666666666666,\"#ed7953\"],[0.7777777777777778,\"#fb9f3a\"],[0.8888888888888888,\"#fdca26\"],[1.0,\"#f0f921\"]],\"type\":\"contour\"}],\"contourcarpet\":[{\"colorbar\":{\"outlinewidth\":0,\"ticks\":\"\"},\"type\":\"contourcarpet\"}],\"heatmap\":[{\"colorbar\":{\"outlinewidth\":0,\"ticks\":\"\"},\"colorscale\":[[0.0,\"#0d0887\"],[0.1111111111111111,\"#46039f\"],[0.2222222222222222,\"#7201a8\"],[0.3333333333333333,\"#9c179e\"],[0.4444444444444444,\"#bd3786\"],[0.5555555555555556,\"#d8576b\"],[0.6666666666666666,\"#ed7953\"],[0.7777777777777778,\"#fb9f3a\"],[0.8888888888888888,\"#fdca26\"],[1.0,\"#f0f921\"]],\"type\":\"heatmap\"}],\"heatmapgl\":[{\"colorbar\":{\"outlinewidth\":0,\"ticks\":\"\"},\"colorscale\":[[0.0,\"#0d0887\"],[0.1111111111111111,\"#46039f\"],[0.2222222222222222,\"#7201a8\"],[0.3333333333333333,\"#9c179e\"],[0.4444444444444444,\"#bd3786\"],[0.5555555555555556,\"#d8576b\"],[0.6666666666666666,\"#ed7953\"],[0.7777777777777778,\"#fb9f3a\"],[0.8888888888888888,\"#fdca26\"],[1.0,\"#f0f921\"]],\"type\":\"heatmapgl\"}],\"histogram\":[{\"marker\":{\"pattern\":{\"fillmode\":\"overlay\",\"size\":10,\"solidity\":0.2}},\"type\":\"histogram\"}],\"histogram2d\":[{\"colorbar\":{\"outlinewidth\":0,\"ticks\":\"\"},\"colorscale\":[[0.0,\"#0d0887\"],[0.1111111111111111,\"#46039f\"],[0.2222222222222222,\"#7201a8\"],[0.3333333333333333,\"#9c179e\"],[0.4444444444444444,\"#bd3786\"],[0.5555555555555556,\"#d8576b\"],[0.6666666666666666,\"#ed7953\"],[0.7777777777777778,\"#fb9f3a\"],[0.8888888888888888,\"#fdca26\"],[1.0,\"#f0f921\"]],\"type\":\"histogram2d\"}],\"histogram2dcontour\":[{\"colorbar\":{\"outlinewidth\":0,\"ticks\":\"\"},\"colorscale\":[[0.0,\"#0d0887\"],[0.1111111111111111,\"#46039f\"],[0.2222222222222222,\"#7201a8\"],[0.3333333333333333,\"#9c179e\"],[0.4444444444444444,\"#bd3786\"],[0.5555555555555556,\"#d8576b\"],[0.6666666666666666,\"#ed7953\"],[0.7777777777777778,\"#fb9f3a\"],[0.8888888888888888,\"#fdca26\"],[1.0,\"#f0f921\"]],\"type\":\"histogram2dcontour\"}],\"mesh3d\":[{\"colorbar\":{\"outlinewidth\":0,\"ticks\":\"\"},\"type\":\"mesh3d\"}],\"parcoords\":[{\"line\":{\"colorbar\":{\"outlinewidth\":0,\"ticks\":\"\"}},\"type\":\"parcoords\"}],\"pie\":[{\"automargin\":true,\"type\":\"pie\"}],\"scatter\":[{\"marker\":{\"colorbar\":{\"outlinewidth\":0,\"ticks\":\"\"}},\"type\":\"scatter\"}],\"scatter3d\":[{\"line\":{\"colorbar\":{\"outlinewidth\":0,\"ticks\":\"\"}},\"marker\":{\"colorbar\":{\"outlinewidth\":0,\"ticks\":\"\"}},\"type\":\"scatter3d\"}],\"scattercarpet\":[{\"marker\":{\"colorbar\":{\"outlinewidth\":0,\"ticks\":\"\"}},\"type\":\"scattercarpet\"}],\"scattergeo\":[{\"marker\":{\"colorbar\":{\"outlinewidth\":0,\"ticks\":\"\"}},\"type\":\"scattergeo\"}],\"scattergl\":[{\"marker\":{\"colorbar\":{\"outlinewidth\":0,\"ticks\":\"\"}},\"type\":\"scattergl\"}],\"scattermapbox\":[{\"marker\":{\"colorbar\":{\"outlinewidth\":0,\"ticks\":\"\"}},\"type\":\"scattermapbox\"}],\"scatterpolar\":[{\"marker\":{\"colorbar\":{\"outlinewidth\":0,\"ticks\":\"\"}},\"type\":\"scatterpolar\"}],\"scatterpolargl\":[{\"marker\":{\"colorbar\":{\"outlinewidth\":0,\"ticks\":\"\"}},\"type\":\"scatterpolargl\"}],\"scatterternary\":[{\"marker\":{\"colorbar\":{\"outlinewidth\":0,\"ticks\":\"\"}},\"type\":\"scatterternary\"}],\"surface\":[{\"colorbar\":{\"outlinewidth\":0,\"ticks\":\"\"},\"colorscale\":[[0.0,\"#0d0887\"],[0.1111111111111111,\"#46039f\"],[0.2222222222222222,\"#7201a8\"],[0.3333333333333333,\"#9c179e\"],[0.4444444444444444,\"#bd3786\"],[0.5555555555555556,\"#d8576b\"],[0.6666666666666666,\"#ed7953\"],[0.7777777777777778,\"#fb9f3a\"],[0.8888888888888888,\"#fdca26\"],[1.0,\"#f0f921\"]],\"type\":\"surface\"}],\"table\":[{\"cells\":{\"fill\":{\"color\":\"#EBF0F8\"},\"line\":{\"color\":\"white\"}},\"header\":{\"fill\":{\"color\":\"#C8D4E3\"},\"line\":{\"color\":\"white\"}},\"type\":\"table\"}]},\"layout\":{\"annotationdefaults\":{\"arrowcolor\":\"#2a3f5f\",\"arrowhead\":0,\"arrowwidth\":1},\"autotypenumbers\":\"strict\",\"coloraxis\":{\"colorbar\":{\"outlinewidth\":0,\"ticks\":\"\"}},\"colorscale\":{\"diverging\":[[0,\"#8e0152\"],[0.1,\"#c51b7d\"],[0.2,\"#de77ae\"],[0.3,\"#f1b6da\"],[0.4,\"#fde0ef\"],[0.5,\"#f7f7f7\"],[0.6,\"#e6f5d0\"],[0.7,\"#b8e186\"],[0.8,\"#7fbc41\"],[0.9,\"#4d9221\"],[1,\"#276419\"]],\"sequential\":[[0.0,\"#0d0887\"],[0.1111111111111111,\"#46039f\"],[0.2222222222222222,\"#7201a8\"],[0.3333333333333333,\"#9c179e\"],[0.4444444444444444,\"#bd3786\"],[0.5555555555555556,\"#d8576b\"],[0.6666666666666666,\"#ed7953\"],[0.7777777777777778,\"#fb9f3a\"],[0.8888888888888888,\"#fdca26\"],[1.0,\"#f0f921\"]],\"sequentialminus\":[[0.0,\"#0d0887\"],[0.1111111111111111,\"#46039f\"],[0.2222222222222222,\"#7201a8\"],[0.3333333333333333,\"#9c179e\"],[0.4444444444444444,\"#bd3786\"],[0.5555555555555556,\"#d8576b\"],[0.6666666666666666,\"#ed7953\"],[0.7777777777777778,\"#fb9f3a\"],[0.8888888888888888,\"#fdca26\"],[1.0,\"#f0f921\"]]},\"colorway\":[\"#636efa\",\"#EF553B\",\"#00cc96\",\"#ab63fa\",\"#FFA15A\",\"#19d3f3\",\"#FF6692\",\"#B6E880\",\"#FF97FF\",\"#FECB52\"],\"font\":{\"color\":\"#2a3f5f\"},\"geo\":{\"bgcolor\":\"white\",\"lakecolor\":\"white\",\"landcolor\":\"#E5ECF6\",\"showlakes\":true,\"showland\":true,\"subunitcolor\":\"white\"},\"hoverlabel\":{\"align\":\"left\"},\"hovermode\":\"closest\",\"mapbox\":{\"style\":\"light\"},\"paper_bgcolor\":\"white\",\"plot_bgcolor\":\"#E5ECF6\",\"polar\":{\"angularaxis\":{\"gridcolor\":\"white\",\"linecolor\":\"white\",\"ticks\":\"\"},\"bgcolor\":\"#E5ECF6\",\"radialaxis\":{\"gridcolor\":\"white\",\"linecolor\":\"white\",\"ticks\":\"\"}},\"scene\":{\"xaxis\":{\"backgroundcolor\":\"#E5ECF6\",\"gridcolor\":\"white\",\"gridwidth\":2,\"linecolor\":\"white\",\"showbackground\":true,\"ticks\":\"\",\"zerolinecolor\":\"white\"},\"yaxis\":{\"backgroundcolor\":\"#E5ECF6\",\"gridcolor\":\"white\",\"gridwidth\":2,\"linecolor\":\"white\",\"showbackground\":true,\"ticks\":\"\",\"zerolinecolor\":\"white\"},\"zaxis\":{\"backgroundcolor\":\"#E5ECF6\",\"gridcolor\":\"white\",\"gridwidth\":2,\"linecolor\":\"white\",\"showbackground\":true,\"ticks\":\"\",\"zerolinecolor\":\"white\"}},\"shapedefaults\":{\"line\":{\"color\":\"#2a3f5f\"}},\"ternary\":{\"aaxis\":{\"gridcolor\":\"white\",\"linecolor\":\"white\",\"ticks\":\"\"},\"baxis\":{\"gridcolor\":\"white\",\"linecolor\":\"white\",\"ticks\":\"\"},\"bgcolor\":\"#E5ECF6\",\"caxis\":{\"gridcolor\":\"white\",\"linecolor\":\"white\",\"ticks\":\"\"}},\"title\":{\"x\":0.05},\"xaxis\":{\"automargin\":true,\"gridcolor\":\"white\",\"linecolor\":\"white\",\"ticks\":\"\",\"title\":{\"standoff\":15},\"zerolinecolor\":\"white\",\"zerolinewidth\":2},\"yaxis\":{\"automargin\":true,\"gridcolor\":\"white\",\"linecolor\":\"white\",\"ticks\":\"\",\"title\":{\"standoff\":15},\"zerolinecolor\":\"white\",\"zerolinewidth\":2}}},\"xaxis\":{\"anchor\":\"y\",\"domain\":[0.0,1.0],\"title\":{\"text\":\"x\"}},\"yaxis\":{\"anchor\":\"x\",\"domain\":[0.0,1.0],\"title\":{\"text\":\"y\"}},\"legend\":{\"tracegroupgap\":0},\"margin\":{\"t\":60}},                        {\"responsive\": true}                    ).then(function(){\n",
              "                            \n",
              "var gd = document.getElementById('83de953d-e361-4593-b1f7-590ee7a84206');\n",
              "var x = new MutationObserver(function (mutations, observer) {{\n",
              "        var display = window.getComputedStyle(gd).display;\n",
              "        if (!display || display === 'none') {{\n",
              "            console.log([gd, 'removed!']);\n",
              "            Plotly.purge(gd);\n",
              "            observer.disconnect();\n",
              "        }}\n",
              "}});\n",
              "\n",
              "// Listen for the removal of the full notebook cells\n",
              "var notebookContainer = gd.closest('#notebook-container');\n",
              "if (notebookContainer) {{\n",
              "    x.observe(notebookContainer, {childList: true});\n",
              "}}\n",
              "\n",
              "// Listen for the clearing of the current output cell\n",
              "var outputEl = gd.closest('.output');\n",
              "if (outputEl) {{\n",
              "    x.observe(outputEl, {childList: true});\n",
              "}}\n",
              "\n",
              "                        })                };                            </script>        </div>\n",
              "</body>\n",
              "</html>"
            ]
          },
          "metadata": {}
        },
        {
          "output_type": "stream",
          "name": "stdout",
          "text": [
            "CRITICLE DAMPING\n"
          ]
        }
      ],
      "source": [
        "fig = px.line(x = T, y = graph(x, v))\n",
        "fig.show()\n",
        "\n",
        "print('CRITICLE DAMPING')\n",
        "\n",
        "# This Graph for Criticle damping."
      ]
    },
    {
      "cell_type": "code",
      "source": [
        "# This is for Over-Damping case.\n",
        "A = 1\n",
        "B = 19\n",
        "C = 90\n",
        "x = 1\n",
        "v = 100\n",
        "print('This is', kindOfDamping(A, B, C))"
      ],
      "metadata": {
        "colab": {
          "base_uri": "https://localhost:8080/"
        },
        "id": "WXIr6qFCfjGD",
        "outputId": "a88f8e1e-77b3-4e38-9750-af42f088f7a4"
      },
      "execution_count": null,
      "outputs": [
        {
          "output_type": "stream",
          "name": "stdout",
          "text": [
            "This is OVER\n"
          ]
        }
      ]
    },
    {
      "cell_type": "code",
      "source": [
        "D = B**2-4*A*C\n",
        "print(D)\n",
        "alpha = B/(2*A)                                        # Value of Alpha.\n",
        "beta = (abs((B**2)/(4*A**2)-(C/A)))**0.5               # Value of Beta.\n",
        "a1 = (-B + D**0.5)/2*A                                 # Root of Equation.\n",
        "a2 = (-B - D**0.5)/2*A                                 # Root of Equation.\n",
        "print(alpha, beta, a1, a2) "
      ],
      "metadata": {
        "colab": {
          "base_uri": "https://localhost:8080/"
        },
        "id": "DxvR2QFufPLf",
        "outputId": "e01a6cbf-a91f-4376-b9ab-7d8176b28fdd"
      },
      "execution_count": null,
      "outputs": [
        {
          "output_type": "stream",
          "name": "stdout",
          "text": [
            "1\n",
            "9.5 0.5 -9.0 -10.0\n"
          ]
        }
      ]
    },
    {
      "cell_type": "code",
      "source": [
        "T = [i / 100 for i in range(100)]"
      ],
      "metadata": {
        "id": "1An-dwJJhLWm"
      },
      "execution_count": null,
      "outputs": []
    },
    {
      "cell_type": "code",
      "source": [
        "fig = px.line(x = T, y = graph(x, v))\n",
        "fig.show()\n",
        "\n",
        "print('OVER DAMPING')\n",
        "\n",
        "# This Graph for Over-Damping damping."
      ],
      "metadata": {
        "colab": {
          "base_uri": "https://localhost:8080/",
          "height": 559
        },
        "id": "y5oXMBPifW0l",
        "outputId": "a4a431c3-e9c3-4e2c-fb1a-69b24cc46a40"
      },
      "execution_count": null,
      "outputs": [
        {
          "output_type": "display_data",
          "data": {
            "text/html": [
              "<html>\n",
              "<head><meta charset=\"utf-8\" /></head>\n",
              "<body>\n",
              "    <div>            <script src=\"https://cdnjs.cloudflare.com/ajax/libs/mathjax/2.7.5/MathJax.js?config=TeX-AMS-MML_SVG\"></script><script type=\"text/javascript\">if (window.MathJax) {MathJax.Hub.Config({SVG: {font: \"STIX-Web\"}});}</script>                <script type=\"text/javascript\">window.PlotlyConfig = {MathJaxConfig: 'local'};</script>\n",
              "        <script src=\"https://cdn.plot.ly/plotly-2.8.3.min.js\"></script>                <div id=\"497fd778-f33e-4302-8483-747ce0030f6c\" class=\"plotly-graph-div\" style=\"height:525px; width:100%;\"></div>            <script type=\"text/javascript\">                                    window.PLOTLYENV=window.PLOTLYENV || {};                                    if (document.getElementById(\"497fd778-f33e-4302-8483-747ce0030f6c\")) {                    Plotly.newPlot(                        \"497fd778-f33e-4302-8483-747ce0030f6c\",                        [{\"hovertemplate\":\"x=%{x}<br>y=%{y}<extra></extra>\",\"legendgroup\":\"\",\"line\":{\"color\":\"#636efa\",\"dash\":\"solid\"},\"marker\":{\"symbol\":\"circle\"},\"mode\":\"lines\",\"name\":\"\",\"orientation\":\"v\",\"showlegend\":false,\"x\":[0.0,0.01,0.02,0.03,0.04,0.05,0.06,0.07,0.08,0.09,0.1,0.11,0.12,0.13,0.14,0.15,0.16,0.17,0.18,0.19,0.2,0.21,0.22,0.23,0.24,0.25,0.26,0.27,0.28,0.29,0.3,0.31,0.32,0.33,0.34,0.35,0.36,0.37,0.38,0.39,0.4,0.41,0.42,0.43,0.44,0.45,0.46,0.47,0.48,0.49,0.5,0.51,0.52,0.53,0.54,0.55,0.56,0.57,0.58,0.59,0.6,0.61,0.62,0.63,0.64,0.65,0.66,0.67,0.68,0.69,0.7,0.71,0.72,0.73,0.74,0.75,0.76,0.77,0.78,0.79,0.8,0.81,0.82,0.83,0.84,0.85,0.86,0.87,0.88,0.89,0.9,0.91,0.92,0.93,0.94,0.95,0.96,0.97,0.98,0.99],\"xaxis\":\"x\",\"y\":[-1.0,0.086383210608318,0.98407020525066,1.7183606077280302,2.311514477822044,2.783095958383612,3.1502795384219695,3.4281228926967486,3.629809846742539,3.7668666468346785,3.8493543828666503,3.8860401146142323,3.884548984956126,3.851499364196485,3.792622854898255,3.712870794074899,3.6165087169391796,3.5072000916439663,3.38808049573948,3.2618232807764507,3.1306976601255325,2.9966200553364146,2.8611994470305913,2.7257773963408134,2.591463331313438,2.4591656286143433,2.3296189635470146,2.203408350106135,2.0809902469250554,1.9627110639684284,1.848823368167693,1.7395000534436553,1.634846711300293,1.5349124120427833,1.439699083342878,1.3491696520523453,1.2632550965874092,1.181860540637095,1.104870504174944,1.0321534145864857,0.9635654689941293,0.8989539284143631,0.8381599150825878,0.7810207760063013,0.7273720684481404,0.6770492164981394,0.6298888820820803,0.5857300885908181,0.5444151307341674,0.5057903001590507,0.46970645276901013,0.43601944049058405,0.4045904274063723,0.3752861076747819,0.3479788404465062,0.32254671503563354,0.29887355788042236,0.2768488913094822,0.256367852790725,0.23733108216257987,0.21964458331148162,0.20321956585040415,0.18797227155581964,0.17382378962206102,0.16069986418131138,0.14853069700408525,0.13725074783017044,0.12679853437544364,0.11711643370870765,0.10815048638830052,0.0998502044851541,0.09216838439217848,0.08506092512493182,0.07848665265157463,0.0724071506476261,0.06678659794997631,0.06159161288224969,0.056791104537550346,0.052356131032752794,0.04825976468894838,0.04447696404378173,0.0409844525617697,0.037760603877003765,0.03478533337779023,0.03203999592379307,0.029507289472256545,0.02717116438014809,0.02501673814291863,0.023030215327457793,0.02119881245622831,0.019510687601061727,0.017954874448315578,0.016521220601705307,0.01520032989485267,0.01398350849219625,0.0128627145641852,0.011830511330445829,0.010880023272725584,0.0100048953277522,0.009199254878593698],\"yaxis\":\"y\",\"type\":\"scatter\"}],                        {\"template\":{\"data\":{\"bar\":[{\"error_x\":{\"color\":\"#2a3f5f\"},\"error_y\":{\"color\":\"#2a3f5f\"},\"marker\":{\"line\":{\"color\":\"#E5ECF6\",\"width\":0.5},\"pattern\":{\"fillmode\":\"overlay\",\"size\":10,\"solidity\":0.2}},\"type\":\"bar\"}],\"barpolar\":[{\"marker\":{\"line\":{\"color\":\"#E5ECF6\",\"width\":0.5},\"pattern\":{\"fillmode\":\"overlay\",\"size\":10,\"solidity\":0.2}},\"type\":\"barpolar\"}],\"carpet\":[{\"aaxis\":{\"endlinecolor\":\"#2a3f5f\",\"gridcolor\":\"white\",\"linecolor\":\"white\",\"minorgridcolor\":\"white\",\"startlinecolor\":\"#2a3f5f\"},\"baxis\":{\"endlinecolor\":\"#2a3f5f\",\"gridcolor\":\"white\",\"linecolor\":\"white\",\"minorgridcolor\":\"white\",\"startlinecolor\":\"#2a3f5f\"},\"type\":\"carpet\"}],\"choropleth\":[{\"colorbar\":{\"outlinewidth\":0,\"ticks\":\"\"},\"type\":\"choropleth\"}],\"contour\":[{\"colorbar\":{\"outlinewidth\":0,\"ticks\":\"\"},\"colorscale\":[[0.0,\"#0d0887\"],[0.1111111111111111,\"#46039f\"],[0.2222222222222222,\"#7201a8\"],[0.3333333333333333,\"#9c179e\"],[0.4444444444444444,\"#bd3786\"],[0.5555555555555556,\"#d8576b\"],[0.6666666666666666,\"#ed7953\"],[0.7777777777777778,\"#fb9f3a\"],[0.8888888888888888,\"#fdca26\"],[1.0,\"#f0f921\"]],\"type\":\"contour\"}],\"contourcarpet\":[{\"colorbar\":{\"outlinewidth\":0,\"ticks\":\"\"},\"type\":\"contourcarpet\"}],\"heatmap\":[{\"colorbar\":{\"outlinewidth\":0,\"ticks\":\"\"},\"colorscale\":[[0.0,\"#0d0887\"],[0.1111111111111111,\"#46039f\"],[0.2222222222222222,\"#7201a8\"],[0.3333333333333333,\"#9c179e\"],[0.4444444444444444,\"#bd3786\"],[0.5555555555555556,\"#d8576b\"],[0.6666666666666666,\"#ed7953\"],[0.7777777777777778,\"#fb9f3a\"],[0.8888888888888888,\"#fdca26\"],[1.0,\"#f0f921\"]],\"type\":\"heatmap\"}],\"heatmapgl\":[{\"colorbar\":{\"outlinewidth\":0,\"ticks\":\"\"},\"colorscale\":[[0.0,\"#0d0887\"],[0.1111111111111111,\"#46039f\"],[0.2222222222222222,\"#7201a8\"],[0.3333333333333333,\"#9c179e\"],[0.4444444444444444,\"#bd3786\"],[0.5555555555555556,\"#d8576b\"],[0.6666666666666666,\"#ed7953\"],[0.7777777777777778,\"#fb9f3a\"],[0.8888888888888888,\"#fdca26\"],[1.0,\"#f0f921\"]],\"type\":\"heatmapgl\"}],\"histogram\":[{\"marker\":{\"pattern\":{\"fillmode\":\"overlay\",\"size\":10,\"solidity\":0.2}},\"type\":\"histogram\"}],\"histogram2d\":[{\"colorbar\":{\"outlinewidth\":0,\"ticks\":\"\"},\"colorscale\":[[0.0,\"#0d0887\"],[0.1111111111111111,\"#46039f\"],[0.2222222222222222,\"#7201a8\"],[0.3333333333333333,\"#9c179e\"],[0.4444444444444444,\"#bd3786\"],[0.5555555555555556,\"#d8576b\"],[0.6666666666666666,\"#ed7953\"],[0.7777777777777778,\"#fb9f3a\"],[0.8888888888888888,\"#fdca26\"],[1.0,\"#f0f921\"]],\"type\":\"histogram2d\"}],\"histogram2dcontour\":[{\"colorbar\":{\"outlinewidth\":0,\"ticks\":\"\"},\"colorscale\":[[0.0,\"#0d0887\"],[0.1111111111111111,\"#46039f\"],[0.2222222222222222,\"#7201a8\"],[0.3333333333333333,\"#9c179e\"],[0.4444444444444444,\"#bd3786\"],[0.5555555555555556,\"#d8576b\"],[0.6666666666666666,\"#ed7953\"],[0.7777777777777778,\"#fb9f3a\"],[0.8888888888888888,\"#fdca26\"],[1.0,\"#f0f921\"]],\"type\":\"histogram2dcontour\"}],\"mesh3d\":[{\"colorbar\":{\"outlinewidth\":0,\"ticks\":\"\"},\"type\":\"mesh3d\"}],\"parcoords\":[{\"line\":{\"colorbar\":{\"outlinewidth\":0,\"ticks\":\"\"}},\"type\":\"parcoords\"}],\"pie\":[{\"automargin\":true,\"type\":\"pie\"}],\"scatter\":[{\"marker\":{\"colorbar\":{\"outlinewidth\":0,\"ticks\":\"\"}},\"type\":\"scatter\"}],\"scatter3d\":[{\"line\":{\"colorbar\":{\"outlinewidth\":0,\"ticks\":\"\"}},\"marker\":{\"colorbar\":{\"outlinewidth\":0,\"ticks\":\"\"}},\"type\":\"scatter3d\"}],\"scattercarpet\":[{\"marker\":{\"colorbar\":{\"outlinewidth\":0,\"ticks\":\"\"}},\"type\":\"scattercarpet\"}],\"scattergeo\":[{\"marker\":{\"colorbar\":{\"outlinewidth\":0,\"ticks\":\"\"}},\"type\":\"scattergeo\"}],\"scattergl\":[{\"marker\":{\"colorbar\":{\"outlinewidth\":0,\"ticks\":\"\"}},\"type\":\"scattergl\"}],\"scattermapbox\":[{\"marker\":{\"colorbar\":{\"outlinewidth\":0,\"ticks\":\"\"}},\"type\":\"scattermapbox\"}],\"scatterpolar\":[{\"marker\":{\"colorbar\":{\"outlinewidth\":0,\"ticks\":\"\"}},\"type\":\"scatterpolar\"}],\"scatterpolargl\":[{\"marker\":{\"colorbar\":{\"outlinewidth\":0,\"ticks\":\"\"}},\"type\":\"scatterpolargl\"}],\"scatterternary\":[{\"marker\":{\"colorbar\":{\"outlinewidth\":0,\"ticks\":\"\"}},\"type\":\"scatterternary\"}],\"surface\":[{\"colorbar\":{\"outlinewidth\":0,\"ticks\":\"\"},\"colorscale\":[[0.0,\"#0d0887\"],[0.1111111111111111,\"#46039f\"],[0.2222222222222222,\"#7201a8\"],[0.3333333333333333,\"#9c179e\"],[0.4444444444444444,\"#bd3786\"],[0.5555555555555556,\"#d8576b\"],[0.6666666666666666,\"#ed7953\"],[0.7777777777777778,\"#fb9f3a\"],[0.8888888888888888,\"#fdca26\"],[1.0,\"#f0f921\"]],\"type\":\"surface\"}],\"table\":[{\"cells\":{\"fill\":{\"color\":\"#EBF0F8\"},\"line\":{\"color\":\"white\"}},\"header\":{\"fill\":{\"color\":\"#C8D4E3\"},\"line\":{\"color\":\"white\"}},\"type\":\"table\"}]},\"layout\":{\"annotationdefaults\":{\"arrowcolor\":\"#2a3f5f\",\"arrowhead\":0,\"arrowwidth\":1},\"autotypenumbers\":\"strict\",\"coloraxis\":{\"colorbar\":{\"outlinewidth\":0,\"ticks\":\"\"}},\"colorscale\":{\"diverging\":[[0,\"#8e0152\"],[0.1,\"#c51b7d\"],[0.2,\"#de77ae\"],[0.3,\"#f1b6da\"],[0.4,\"#fde0ef\"],[0.5,\"#f7f7f7\"],[0.6,\"#e6f5d0\"],[0.7,\"#b8e186\"],[0.8,\"#7fbc41\"],[0.9,\"#4d9221\"],[1,\"#276419\"]],\"sequential\":[[0.0,\"#0d0887\"],[0.1111111111111111,\"#46039f\"],[0.2222222222222222,\"#7201a8\"],[0.3333333333333333,\"#9c179e\"],[0.4444444444444444,\"#bd3786\"],[0.5555555555555556,\"#d8576b\"],[0.6666666666666666,\"#ed7953\"],[0.7777777777777778,\"#fb9f3a\"],[0.8888888888888888,\"#fdca26\"],[1.0,\"#f0f921\"]],\"sequentialminus\":[[0.0,\"#0d0887\"],[0.1111111111111111,\"#46039f\"],[0.2222222222222222,\"#7201a8\"],[0.3333333333333333,\"#9c179e\"],[0.4444444444444444,\"#bd3786\"],[0.5555555555555556,\"#d8576b\"],[0.6666666666666666,\"#ed7953\"],[0.7777777777777778,\"#fb9f3a\"],[0.8888888888888888,\"#fdca26\"],[1.0,\"#f0f921\"]]},\"colorway\":[\"#636efa\",\"#EF553B\",\"#00cc96\",\"#ab63fa\",\"#FFA15A\",\"#19d3f3\",\"#FF6692\",\"#B6E880\",\"#FF97FF\",\"#FECB52\"],\"font\":{\"color\":\"#2a3f5f\"},\"geo\":{\"bgcolor\":\"white\",\"lakecolor\":\"white\",\"landcolor\":\"#E5ECF6\",\"showlakes\":true,\"showland\":true,\"subunitcolor\":\"white\"},\"hoverlabel\":{\"align\":\"left\"},\"hovermode\":\"closest\",\"mapbox\":{\"style\":\"light\"},\"paper_bgcolor\":\"white\",\"plot_bgcolor\":\"#E5ECF6\",\"polar\":{\"angularaxis\":{\"gridcolor\":\"white\",\"linecolor\":\"white\",\"ticks\":\"\"},\"bgcolor\":\"#E5ECF6\",\"radialaxis\":{\"gridcolor\":\"white\",\"linecolor\":\"white\",\"ticks\":\"\"}},\"scene\":{\"xaxis\":{\"backgroundcolor\":\"#E5ECF6\",\"gridcolor\":\"white\",\"gridwidth\":2,\"linecolor\":\"white\",\"showbackground\":true,\"ticks\":\"\",\"zerolinecolor\":\"white\"},\"yaxis\":{\"backgroundcolor\":\"#E5ECF6\",\"gridcolor\":\"white\",\"gridwidth\":2,\"linecolor\":\"white\",\"showbackground\":true,\"ticks\":\"\",\"zerolinecolor\":\"white\"},\"zaxis\":{\"backgroundcolor\":\"#E5ECF6\",\"gridcolor\":\"white\",\"gridwidth\":2,\"linecolor\":\"white\",\"showbackground\":true,\"ticks\":\"\",\"zerolinecolor\":\"white\"}},\"shapedefaults\":{\"line\":{\"color\":\"#2a3f5f\"}},\"ternary\":{\"aaxis\":{\"gridcolor\":\"white\",\"linecolor\":\"white\",\"ticks\":\"\"},\"baxis\":{\"gridcolor\":\"white\",\"linecolor\":\"white\",\"ticks\":\"\"},\"bgcolor\":\"#E5ECF6\",\"caxis\":{\"gridcolor\":\"white\",\"linecolor\":\"white\",\"ticks\":\"\"}},\"title\":{\"x\":0.05},\"xaxis\":{\"automargin\":true,\"gridcolor\":\"white\",\"linecolor\":\"white\",\"ticks\":\"\",\"title\":{\"standoff\":15},\"zerolinecolor\":\"white\",\"zerolinewidth\":2},\"yaxis\":{\"automargin\":true,\"gridcolor\":\"white\",\"linecolor\":\"white\",\"ticks\":\"\",\"title\":{\"standoff\":15},\"zerolinecolor\":\"white\",\"zerolinewidth\":2}}},\"xaxis\":{\"anchor\":\"y\",\"domain\":[0.0,1.0],\"title\":{\"text\":\"x\"}},\"yaxis\":{\"anchor\":\"x\",\"domain\":[0.0,1.0],\"title\":{\"text\":\"y\"}},\"legend\":{\"tracegroupgap\":0},\"margin\":{\"t\":60}},                        {\"responsive\": true}                    ).then(function(){\n",
              "                            \n",
              "var gd = document.getElementById('497fd778-f33e-4302-8483-747ce0030f6c');\n",
              "var x = new MutationObserver(function (mutations, observer) {{\n",
              "        var display = window.getComputedStyle(gd).display;\n",
              "        if (!display || display === 'none') {{\n",
              "            console.log([gd, 'removed!']);\n",
              "            Plotly.purge(gd);\n",
              "            observer.disconnect();\n",
              "        }}\n",
              "}});\n",
              "\n",
              "// Listen for the removal of the full notebook cells\n",
              "var notebookContainer = gd.closest('#notebook-container');\n",
              "if (notebookContainer) {{\n",
              "    x.observe(notebookContainer, {childList: true});\n",
              "}}\n",
              "\n",
              "// Listen for the clearing of the current output cell\n",
              "var outputEl = gd.closest('.output');\n",
              "if (outputEl) {{\n",
              "    x.observe(outputEl, {childList: true});\n",
              "}}\n",
              "\n",
              "                        })                };                            </script>        </div>\n",
              "</body>\n",
              "</html>"
            ]
          },
          "metadata": {}
        },
        {
          "output_type": "stream",
          "name": "stdout",
          "text": [
            "OVER DAMPING\n"
          ]
        }
      ]
    },
    {
      "cell_type": "code",
      "source": [
        "# This is for Under-Damping case.\n",
        "A = 1\n",
        "B = 2\n",
        "C = 90\n",
        "x = 100\n",
        "v = -100\n",
        "print('This is', kindOfDamping(A, B, C), 'Damping')"
      ],
      "metadata": {
        "colab": {
          "base_uri": "https://localhost:8080/"
        },
        "id": "d2mKc8ZhiEF4",
        "outputId": "37bed769-da2b-4a88-86e2-877c9671e88c"
      },
      "execution_count": null,
      "outputs": [
        {
          "output_type": "stream",
          "name": "stdout",
          "text": [
            "This is UNDER Damping\n"
          ]
        }
      ]
    },
    {
      "cell_type": "code",
      "source": [
        "D = B**2-4*A*C\n",
        "alpha = B/(2*A)                                        # Value of Alpha.\n",
        "beta = (abs((B**2)/(4*A**2)-(C/A)))**0.5               # Value of Beta.\n",
        "a1 = (-B + D**0.5)/2*A                                 # Root of Equation.\n",
        "a2 = (-B - D**0.5)/2*A                                 # Root of Equation. "
      ],
      "metadata": {
        "id": "AwNybeYTiXHS"
      },
      "execution_count": null,
      "outputs": []
    },
    {
      "cell_type": "code",
      "source": [
        "T = [i / 100 for i in range(1000)]"
      ],
      "metadata": {
        "id": "6CH0Y2-_i-am"
      },
      "execution_count": null,
      "outputs": []
    },
    {
      "cell_type": "code",
      "source": [
        "fig = px.line(x = T, y = graph(x, v))\n",
        "fig.show()\n",
        "\n",
        "print('UNDER DAMPING')\n",
        "\n",
        "# This Graph for Under-Damping damping."
      ],
      "metadata": {
        "colab": {
          "base_uri": "https://localhost:8080/",
          "height": 559
        },
        "id": "Fr2crYGMihYU",
        "outputId": "4fc20f24-bb8f-4952-9349-8637f6040fbc"
      },
      "execution_count": null,
      "outputs": [
        {
          "output_type": "display_data",
          "data": {
            "text/html": [
              "<html>\n",
              "<head><meta charset=\"utf-8\" /></head>\n",
              "<body>\n",
              "    <div>            <script src=\"https://cdnjs.cloudflare.com/ajax/libs/mathjax/2.7.5/MathJax.js?config=TeX-AMS-MML_SVG\"></script><script type=\"text/javascript\">if (window.MathJax) {MathJax.Hub.Config({SVG: {font: \"STIX-Web\"}});}</script>                <script type=\"text/javascript\">window.PlotlyConfig = {MathJaxConfig: 'local'};</script>\n",
              "        <script src=\"https://cdn.plot.ly/plotly-2.8.3.min.js\"></script>                <div id=\"2d3d204f-7d5d-4816-96b1-72bc1145f335\" class=\"plotly-graph-div\" style=\"height:525px; width:100%;\"></div>            <script type=\"text/javascript\">                                    window.PLOTLYENV=window.PLOTLYENV || {};                                    if (document.getElementById(\"2d3d204f-7d5d-4816-96b1-72bc1145f335\")) {                    Plotly.newPlot(                        \"2d3d204f-7d5d-4816-96b1-72bc1145f335\",                        [{\"hovertemplate\":\"x=%{x}<br>y=%{y}<extra></extra>\",\"legendgroup\":\"\",\"line\":{\"color\":\"#636efa\",\"dash\":\"solid\"},\"marker\":{\"symbol\":\"circle\"},\"mode\":\"lines\",\"name\":\"\",\"orientation\":\"v\",\"showlegend\":false,\"x\":[0.0,0.01,0.02,0.03,0.04,0.05,0.06,0.07,0.08,0.09,0.1,0.11,0.12,0.13,0.14,0.15,0.16,0.17,0.18,0.19,0.2,0.21,0.22,0.23,0.24,0.25,0.26,0.27,0.28,0.29,0.3,0.31,0.32,0.33,0.34,0.35,0.36,0.37,0.38,0.39,0.4,0.41,0.42,0.43,0.44,0.45,0.46,0.47,0.48,0.49,0.5,0.51,0.52,0.53,0.54,0.55,0.56,0.57,0.58,0.59,0.6,0.61,0.62,0.63,0.64,0.65,0.66,0.67,0.68,0.69,0.7,0.71,0.72,0.73,0.74,0.75,0.76,0.77,0.78,0.79,0.8,0.81,0.82,0.83,0.84,0.85,0.86,0.87,0.88,0.89,0.9,0.91,0.92,0.93,0.94,0.95,0.96,0.97,0.98,0.99,1.0,1.01,1.02,1.03,1.04,1.05,1.06,1.07,1.08,1.09,1.1,1.11,1.12,1.13,1.14,1.15,1.16,1.17,1.18,1.19,1.2,1.21,1.22,1.23,1.24,1.25,1.26,1.27,1.28,1.29,1.3,1.31,1.32,1.33,1.34,1.35,1.36,1.37,1.38,1.39,1.4,1.41,1.42,1.43,1.44,1.45,1.46,1.47,1.48,1.49,1.5,1.51,1.52,1.53,1.54,1.55,1.56,1.57,1.58,1.59,1.6,1.61,1.62,1.63,1.64,1.65,1.66,1.67,1.68,1.69,1.7,1.71,1.72,1.73,1.74,1.75,1.76,1.77,1.78,1.79,1.8,1.81,1.82,1.83,1.84,1.85,1.86,1.87,1.88,1.89,1.9,1.91,1.92,1.93,1.94,1.95,1.96,1.97,1.98,1.99,2.0,2.01,2.02,2.03,2.04,2.05,2.06,2.07,2.08,2.09,2.1,2.11,2.12,2.13,2.14,2.15,2.16,2.17,2.18,2.19,2.2,2.21,2.22,2.23,2.24,2.25,2.26,2.27,2.28,2.29,2.3,2.31,2.32,2.33,2.34,2.35,2.36,2.37,2.38,2.39,2.4,2.41,2.42,2.43,2.44,2.45,2.46,2.47,2.48,2.49,2.5,2.51,2.52,2.53,2.54,2.55,2.56,2.57,2.58,2.59,2.6,2.61,2.62,2.63,2.64,2.65,2.66,2.67,2.68,2.69,2.7,2.71,2.72,2.73,2.74,2.75,2.76,2.77,2.78,2.79,2.8,2.81,2.82,2.83,2.84,2.85,2.86,2.87,2.88,2.89,2.9,2.91,2.92,2.93,2.94,2.95,2.96,2.97,2.98,2.99,3.0,3.01,3.02,3.03,3.04,3.05,3.06,3.07,3.08,3.09,3.1,3.11,3.12,3.13,3.14,3.15,3.16,3.17,3.18,3.19,3.2,3.21,3.22,3.23,3.24,3.25,3.26,3.27,3.28,3.29,3.3,3.31,3.32,3.33,3.34,3.35,3.36,3.37,3.38,3.39,3.4,3.41,3.42,3.43,3.44,3.45,3.46,3.47,3.48,3.49,3.5,3.51,3.52,3.53,3.54,3.55,3.56,3.57,3.58,3.59,3.6,3.61,3.62,3.63,3.64,3.65,3.66,3.67,3.68,3.69,3.7,3.71,3.72,3.73,3.74,3.75,3.76,3.77,3.78,3.79,3.8,3.81,3.82,3.83,3.84,3.85,3.86,3.87,3.88,3.89,3.9,3.91,3.92,3.93,3.94,3.95,3.96,3.97,3.98,3.99,4.0,4.01,4.02,4.03,4.04,4.05,4.06,4.07,4.08,4.09,4.1,4.11,4.12,4.13,4.14,4.15,4.16,4.17,4.18,4.19,4.2,4.21,4.22,4.23,4.24,4.25,4.26,4.27,4.28,4.29,4.3,4.31,4.32,4.33,4.34,4.35,4.36,4.37,4.38,4.39,4.4,4.41,4.42,4.43,4.44,4.45,4.46,4.47,4.48,4.49,4.5,4.51,4.52,4.53,4.54,4.55,4.56,4.57,4.58,4.59,4.6,4.61,4.62,4.63,4.64,4.65,4.66,4.67,4.68,4.69,4.7,4.71,4.72,4.73,4.74,4.75,4.76,4.77,4.78,4.79,4.8,4.81,4.82,4.83,4.84,4.85,4.86,4.87,4.88,4.89,4.9,4.91,4.92,4.93,4.94,4.95,4.96,4.97,4.98,4.99,5.0,5.01,5.02,5.03,5.04,5.05,5.06,5.07,5.08,5.09,5.1,5.11,5.12,5.13,5.14,5.15,5.16,5.17,5.18,5.19,5.2,5.21,5.22,5.23,5.24,5.25,5.26,5.27,5.28,5.29,5.3,5.31,5.32,5.33,5.34,5.35,5.36,5.37,5.38,5.39,5.4,5.41,5.42,5.43,5.44,5.45,5.46,5.47,5.48,5.49,5.5,5.51,5.52,5.53,5.54,5.55,5.56,5.57,5.58,5.59,5.6,5.61,5.62,5.63,5.64,5.65,5.66,5.67,5.68,5.69,5.7,5.71,5.72,5.73,5.74,5.75,5.76,5.77,5.78,5.79,5.8,5.81,5.82,5.83,5.84,5.85,5.86,5.87,5.88,5.89,5.9,5.91,5.92,5.93,5.94,5.95,5.96,5.97,5.98,5.99,6.0,6.01,6.02,6.03,6.04,6.05,6.06,6.07,6.08,6.09,6.1,6.11,6.12,6.13,6.14,6.15,6.16,6.17,6.18,6.19,6.2,6.21,6.22,6.23,6.24,6.25,6.26,6.27,6.28,6.29,6.3,6.31,6.32,6.33,6.34,6.35,6.36,6.37,6.38,6.39,6.4,6.41,6.42,6.43,6.44,6.45,6.46,6.47,6.48,6.49,6.5,6.51,6.52,6.53,6.54,6.55,6.56,6.57,6.58,6.59,6.6,6.61,6.62,6.63,6.64,6.65,6.66,6.67,6.68,6.69,6.7,6.71,6.72,6.73,6.74,6.75,6.76,6.77,6.78,6.79,6.8,6.81,6.82,6.83,6.84,6.85,6.86,6.87,6.88,6.89,6.9,6.91,6.92,6.93,6.94,6.95,6.96,6.97,6.98,6.99,7.0,7.01,7.02,7.03,7.04,7.05,7.06,7.07,7.08,7.09,7.1,7.11,7.12,7.13,7.14,7.15,7.16,7.17,7.18,7.19,7.2,7.21,7.22,7.23,7.24,7.25,7.26,7.27,7.28,7.29,7.3,7.31,7.32,7.33,7.34,7.35,7.36,7.37,7.38,7.39,7.4,7.41,7.42,7.43,7.44,7.45,7.46,7.47,7.48,7.49,7.5,7.51,7.52,7.53,7.54,7.55,7.56,7.57,7.58,7.59,7.6,7.61,7.62,7.63,7.64,7.65,7.66,7.67,7.68,7.69,7.7,7.71,7.72,7.73,7.74,7.75,7.76,7.77,7.78,7.79,7.8,7.81,7.82,7.83,7.84,7.85,7.86,7.87,7.88,7.89,7.9,7.91,7.92,7.93,7.94,7.95,7.96,7.97,7.98,7.99,8.0,8.01,8.02,8.03,8.04,8.05,8.06,8.07,8.08,8.09,8.1,8.11,8.12,8.13,8.14,8.15,8.16,8.17,8.18,8.19,8.2,8.21,8.22,8.23,8.24,8.25,8.26,8.27,8.28,8.29,8.3,8.31,8.32,8.33,8.34,8.35,8.36,8.37,8.38,8.39,8.4,8.41,8.42,8.43,8.44,8.45,8.46,8.47,8.48,8.49,8.5,8.51,8.52,8.53,8.54,8.55,8.56,8.57,8.58,8.59,8.6,8.61,8.62,8.63,8.64,8.65,8.66,8.67,8.68,8.69,8.7,8.71,8.72,8.73,8.74,8.75,8.76,8.77,8.78,8.79,8.8,8.81,8.82,8.83,8.84,8.85,8.86,8.87,8.88,8.89,8.9,8.91,8.92,8.93,8.94,8.95,8.96,8.97,8.98,8.99,9.0,9.01,9.02,9.03,9.04,9.05,9.06,9.07,9.08,9.09,9.1,9.11,9.12,9.13,9.14,9.15,9.16,9.17,9.18,9.19,9.2,9.21,9.22,9.23,9.24,9.25,9.26,9.27,9.28,9.29,9.3,9.31,9.32,9.33,9.34,9.35,9.36,9.37,9.38,9.39,9.4,9.41,9.42,9.43,9.44,9.45,9.46,9.47,9.48,9.49,9.5,9.51,9.52,9.53,9.54,9.55,9.56,9.57,9.58,9.59,9.6,9.61,9.62,9.63,9.64,9.65,9.66,9.67,9.68,9.69,9.7,9.71,9.72,9.73,9.74,9.75,9.76,9.77,9.78,9.79,9.8,9.81,9.82,9.83,9.84,9.85,9.86,9.87,9.88,9.89,9.9,9.91,9.92,9.93,9.94,9.95,9.96,9.97,9.98,9.99],\"xaxis\":\"x\",\"y\":[100.0,98.56473785967293,96.2802836562453,93.18379310777588,89.3189165033088,84.73528144323986,79.48793260063073,73.63673434283211,67.24574226783743,60.382549866684464,53.11761662170538,45.523583890776834,37.6745849107325,29.645555180058523,21.51154935365603,13.347070603034924,5.225418166427234,-2.7819414620049856,-10.605974573074489,-18.180646740554565,-25.443451396388735,-32.33589652765732,-38.80394599103591,-44.79841241395299,-50.27529914273548,-55.196089202001644,-59.527979741678735,-63.244060963566355,-66.32343903367696,-68.75130299510805,-70.5189361945238,-71.62367321920914,-72.06880380708854,-71.86342563529222,-71.02224831030053,-69.5653512711953,-67.51789867420905,-64.90981464904345,-61.775422603138836,-58.1530524973981,-54.08462022435601,-49.61518338638461,-44.79247789655847,-39.666439907984,-34.2887176188095,-28.71217750023807,-22.990409454480258,-17.17723532986643,-11.326225102783306,-5.490224882496675,0.279099292643098,5.931698118302719,11.419552645494836,16.69706163354216,21.72139970586701,26.45284369776007,30.855064920195815,34.89538541231038,38.54499661396286,41.77913925547005,44.577243630743745,46.923029789310725,48.804567548773676,50.21429658897583,51.14900723938753,51.609782909108866,51.60190543161358,51.13472490137434,50.22149586444075,48.879181987751984,47.128231570554895,44.99232647412015,42.49810723161805,39.6748772574171,36.554289203360064,33.170016608188526,29.55741405493702,25.753169089784162,21.79494916478044,17.72104684657866,13.570026484534218,9.380375455315423,5.190162998691561,1.0367095318806863,-3.0437308206343974,-7.016271916778685,-10.847679132300764,-14.50663257683547,-17.963968049309006,-21.192894028030963,-24.169183237956368,-26.871337592824798,-29.280725570758307,-31.381691345991495,-33.16163526429989,-34.61106551301312,-35.723621095932835,-36.496066476789366,-36.92825849993225,-37.02308643173712,-36.786386188841156,-36.22683002804637,-35.35579316597431,-34.18719897290109,-32.73734454341345,-31.0247085855551,-29.069743689119633,-26.894655132029353,-24.52316846085312,-21.980288137193803,-19.292049575845457,-16.48526691340286,-13.587278837713978,-10.625694779686015,-7.628143720156701,-4.622027796652359,-1.6342828088523729,1.3088523814035056,4.182055678446037,6.961129065405702,9.623191803073471,12.146858074238036,14.512397799769413,16.701879527777756,18.69929447855119,20.49066101392754,22.064108988535544,23.409943630214958,24.520688786178948,25.39110955844436,26.018214535105656,26.401238001614765,26.54160268687879,26.44286376131729,26.11063495675207,25.55249781996311,24.777895241885194,23.798010521815424,22.62563332985991,21.275014020510703,19.76170782519629,18.102410511511177,16.31478714137261,14.417295589477568,12.42900649718995,10.369421335556742,8.258290234846362,6.115431207263089,3.9605523448764535,1.8130785169872021,-0.3080159790929355,-2.3843674416695095,-4.398374182921707,-6.333338163968348,-8.173595779357507,-9.904636841341219,-11.513210938169198,-12.98742046940745,-14.316799793715637,-15.492380059349845,-16.506739423646334,-17.354038503653847,-18.030041034707786,-18.53211984590652,-18.859248390029453,-19.01197818935487,-18.99240267708221,-18.804108025696554,-18.452111657771404,-17.94278923060839,-17.28379097306992,-16.483948330375284,-15.553171940002253,-14.502342018763898,-13.343192287313604,-12.08818859357232,-10.750403420773157,-9.343387478983303,-7.881039581192541,-6.377475996548601,-4.8469004543604335,-3.303475943456696,-1.761199412836894,-0.23378043182053082,1.2654751883091246,2.723775873187747,4.12894799790182,5.469532043704706,6.734870492360764,7.915186839119561,9.001655196658216,9.986460056555511,10.862845871080527,11.625156215395032,12.268862387794279,12.790581402472892,13.188083424651857,13.460288790920176,13.607254847548258,13.630152925581408,13.531235853029996,13.313796480803108,12.982117769607067,12.541415049335118,11.997771120060522,11.358064914234758,10.629894482772517,9.821495103144223,8.94165333522501,7.999617870379704,7.005008031074133,5.967720782247315,4.897837111876543,3.8055286268058115,2.7009651912379398,1.5942244096234437,0.4952037233813754,-0.5864641476217594,-1.6414917321637337,-2.661012666149874,-3.6366522994958093,-4.560592526718973,-5.4256303783730955,-6.22522997517374,-6.953567513649479,-7.605569020753172,-8.17694068445557,-8.664191637263936,-9.064649139246427,-9.376466175873079,-9.598621553219834,-9.73091263824993,-9.773940954449946,-9.729090902549085,-9.598501931923192,-9.385034540152029,-9.09223052567778,-8.724267961267834,-8.285911393729608,-7.782457807821334,-7.219678919366443,-6.603760384074889,-5.941238524424999,-5.238935187128836,-4.503891348223088,-3.743300081757334,-2.9644395015240894,-2.1746062734439615,-1.3810502793080934,-0.5909109908262293,0.1888439133639212,0.9514771855924727,1.6905374342062574,2.39991090589069,3.0738692363293403,3.707112823865822,4.294809526642862,4.832628431263857,5.316768489893942,5.743981872429972,6.1115919304622786,6.4175057197722,6.6602210776145965,6.838828299591778,6.953006508124025,7.003014849964325,6.989678703526208,6.914371117645447,6.778989741467468,6.585929540156454,6.338051622809414,6.038648537112581,5.691406409716444,5.3003643318877645,4.869871406611908,4.404541885901587,3.9092088355812775,3.3888767692709463,2.8486736937227093,2.293803004151035,1.7294956608466878,1.1609630673199955,0.5933510556514718,0.031695366835707874,-0.5191210070841398,-1.0544082761363254,-1.5697077842593503,-2.060827132043767,-2.5238722332695716,-2.95527608052662,-3.351824028954736,-3.710675441926175,-4.029381577976427,-4.3058996341488625,-4.538602896819691,-4.726286986698959,-4.868172219742457,-4.963902139863853,-5.0135383123146395,-5.017551498135281,-4.976809359918863,-4.892560877038863,-4.766417674263423,-4.600332491123706,-4.396575040359993,-4.157705522099871,-3.8865460760152892,-3.586150466477305,-3.2597723056178034,-2.9108321261893755,-2.5428836201787055,-2.1595793603019224,-1.7646363198337085,-1.3618015017727823,-0.954817981212918,-0.5473916550942695,-0.14315898138441654,0.25434402465430583,0.6417112859494976,1.0156944180944374,1.373228530166583,1.7114558808446063,2.027747221660614,2.3197206831462442,2.585258084366225,2.822518571640956,3.0299495179056395,3.2062946399021066,3.3505993160189482,3.462213112861545,3.540789553326105,3.586283182864986,3.598944013564147,3.5793094474251994,3.528193800681446,3.446675569925278,3.3360825981434097,3.197975314324865,3.0341282340207956,2.846509920008843,2.637261611982858,2.408674741902189,2.163167557267662,1.903261078132704,1.6315546151193927,1.3507010751175885,1.063382278747328,0.7722845091227715,0.48007450504939864,0.18937610360862445,-0.09725227275641103,-0.37733910092303774,-0.6485200426017766,-0.9085568738042357,-1.155354916571266,-1.386978847407978,-1.6016667738119805,-1.7978424878526862,-1.9741258237936299,-2.1293410650768805,-2.2625233644396685,-2.372923159341672,-2.4600085830838756,-2.5234658898385716,-2.5631979291332554,-2.5793207219948995,-2.57215820682995,-2.5422352380639874,-2.490268934478201,-2.4171584869546154,-2.3239735468867453,-2.21194132674905,-2.082432553181562,-1.9369464203839997,-1.777094697588248,-1.6045851488653435,-1.4212044265122665,-1.2288006007582344,-1.0292654885458683,-0.8245169427088684,-0.6164812600260823,-0.4070758624352583,-0.19819240020258763,0.00831958085929469,0.2106682738680326,0.40713442166229924,0.5960851883426119,0.7759869866495669,0.9454171676414066,1.1030744911149808,1.2477883076852678,1.3785263962778374,1.4944014138745123,1.594675927563439,1.678766012160887,1.7462434097754234,1.7968362605613475,1.830428426447148,1.847057441721432,1.8469111359141537,1.8303229853330698,1.7977662598192343,1.749847040694618,1.6872961944213205,1.6109603941166117,1.5217922877210686,1.4208399172591584,1.3092354982315078,1.1881836717166383,1.0589493442252496,0.9228452317432871,0.7812192247278755,0.6354416901025647,0.48689282456134075,0.336950170770549,0.18697640439780752,0.038307495348527267,-0.10775865878864463,-0.2499730352305852,-0.3871456394078537,-0.5181549317395084,-0.641956458227964,-0.7575906237928485,-0.8641895561060178,-0.960983016821732,-1.0473033264319696,-1.1225892784276257,-1.186389027927598,-1.23836194936237,-1.27827946708559,-1.3060248718553091,-1.3215921449000678,-1.3250838196913612,-1.316707919515788,-1.2967740164148593,-1.2656884639814425,-1.2239488628183381,-1.1721378231324169,-1.1109160939192373,-1.041015132457765,-0.9632291913582804,-0.8784070031729273,-0.7874431445770784,-0.6912691633592594,-0.5908445519206567,-0.48714765069490673,-0.38116656387082093,-0.27389016806034455,-0.16629929212911107,-0.059358143334601904,0.045993948764576464,0.14885040340876318,0.24834481228664948,0.34365785849442054,0.4340236791923939,0.5187356263221099,0.5971513860101392,0.6686974237747186,0.7328727293054363,0.7892518413422484,0.8374871399753683,0.8773104004618046,0.9085336093463182,0.931049050227571,0.9448286728677009,0.9499227654535725,0.9464579556302354,0.9346345713964469,0.9147233980361902,0.8870618719214995,0.8520497562273505,0.8101443473204781,0.7618552637973818,0.7077388728335136,0.6483924106527595,0.5844478555247807,0.5165656127449566,0.44542807154819086,0.37173309386123815,0.2961874942188503,0.21950056907288099,0.14237773213098154,0.065514310295577,-0.010410447736384974,-0.08473910107710952,-0.1568414386228587,-0.2261195512149363,-0.2920125157512825,-0.3540006572257811,-0.41160935910384583,-0.4644123970507445,-0.5120347757675382,-0.5541550535149304,-0.59050714377198,-0.6208815883414213,-0.6451263010319301,-0.6631467857790032,-0.6749058376690502,-0.6804227397680401,-0.6797719728897587,-0.6730814594362546,-0.6605303661731536,-0.6423464942374216,-0.6188032877900748,-0.590216495499887,-0.5569405214583326,-0.5193645041666501,-0.4779081638918642,-0.43301745995321883,-0.38516010036973325,-0.33482094677415525,-0.282497357581329,-0.22869451209774858,-0.17392075758332126,-0.11868302024036678,-0.06348231972403871,-0.008809425062838232,0.04485931213168039,0.09706591357567579,0.14737448829699998,0.1953746764137555,0.24068479739481988,0.28295468062208207,0.32186815934215496,0.3571452124669943,0.3885437421260598,0.4158609783554243,0.4389345057997846,0.45764291077038194,0.4719060504148999,0.48168494908539533,0.48698133020892237,0.4878367950466083,0.4843316626454941,0.47658348802094863,0.46474527813509925,0.44900342754009553,0.4295753976180824,0.40670716515883276,0.3806704675601548,0.351759873206674,0.3202897065738284,0.28659085831228714,0.2510075109931063,0.21389381133733876,0.1756105196199518,0.1365216665334479,0.09699124713051012,0.05737998054831375,0.01804216306306283,-0.02067735935317647,-0.058446074383523124,-0.09494651980530744,-0.1298788121352527,-0.1629629686844767,-0.1939410064387613,-0.2225788034948986,-0.24866771118083772,-0.27202590744217425,-0.29249948456786856,-0.3099632668305428,-0.3243213561092725,-0.33550740602295454,-0.34348462750927,-0.34824553111728185,-0.3498114135216977,-0.34823159789558933,-0.34358243977914726,-0.335966111939622,-0.32550918341822827,-0.31236100949143164,-0.2966919506264038,-0.2786914396750693,-0.25856591752136515,-0.23653665816733224,-0.21283750481253894,-0.18771253884706143,-0.16141370384151477,-0.13419840658102125,-0.10632711695790502,-0.07806098811601433,-0.04965951763576922,-0.021378269771814177,0.006533322184587636,0.03383405543745745,0.060292942360836356,0.08569106491930298,0.10982328490189186,0.1324997975967174,0.15354751817258105,0.1728112917359617,0.1901549197806202,0.20546199752606178,0.2186365584339059,0.22960352398157904,0.23830895854475903,0.24472013097821654,0.24882538617436817,0.25063383150586643,0.2501748446096662,0.24749741043288417,0.24266929682418384,0.23577607920816618,0.22692002601533856,0.21621885754892783,0.20380439184559232,0.18982109182485524,0.17442452861793434,0.15777977641811253,0.14005975450072716,0.12144353222141484,0.1021146128178458,0.08225921171554376,0.06206454477643418,0.04171714153454642,0.021401197942898808,0.0012969825161848073,-0.01842069099647651,-0.03758391212690278,-0.05603303205444447,-0.07361792151411026,-0.09019911903512372,-0.10564886145767513,-0.11985198988330897,-0.13270672545898698,-0.1441253106648186,-0.15403451305865165,-0.16237598971578915,-0.1691065118772921,-0.17419805057469082,-0.17763772522155385,-0.17942761834308676,-0.17958446074403864,-0.17813919248365329,-0.17513640602588657,-0.17063367885612127,-0.1647008036954164,-0.15741892519410278,-0.14887959264336112,-0.13918373880232016,-0.1284405953961239,-0.11676655619527791,-0.1042839988372763,-0.09112007669788236,-0.07740549216217792,-0.06327326258640761,-0.04885749008308709,-0.03429214600743535,-0.019709880676827832,-0.0052408684218107635,0.008988302447404785,0.022855685764671334,0.03624497138573277,0.04904640920327594,0.06115765645524533,0.07248454230095162,0.08294174449545251,0.09245337387772545,0.1009534632938157,0.10838635849394063,0.11470700946407614,0.11988116156956308,0.12388544679266839,0.1267073762299978,0.12834523587174543,0.12880788850590602,0.12811448537012454,0.12629409190573107,0.12338523264710284,0.11943536089984955,0.1145002594190467,0.10864337879011164,0.10193512063690162,0.0944520731317752,0.08627620655906709,0.07749403688559017,0.0681957654191839,0.058474402689191345,0.0484248846621984,0.03814318931394007,0.027725461416288084,0.01726715316948576,0.006862188017600463,-0.0033978453665429007,-0.013424462347653597,-0.023133008723683672,-0.032443338632081584,-0.04128043889072613,-0.04957499527512519,-0.05726389683953444,-0.06429067501837486,-0.07060587488966434,-0.07616735663804575,-0.08094052591535227,-0.08489849245552016,-0.08802215695221603,-0.09030022684611877,-0.0917291622889728,-0.09231305414813522,-0.0920634364835437,-0.09099903646432589,-0.08914546519055169,-0.08653485334318123,-0.0832054359988256,-0.07920109131269995,-0.07457083809076683,-0.06936829753869521,-0.0636511246895232,-0.057480415172946955,-0.05092009309658017,-0.0440362858634472,-0.03689669175096149,-0.02956994602574558,-0.022124991267345052,-0.014630457424080175,-0.007154056928256186,0.00023800004161938994,0.0074815653440938445,0.014515083213370195,0.021280087014204845,0.027721658655039998,0.03378884730821113,0.039435044514753964,0.044618313197552016,0.04930166856599536,0.05345330936361041,0.05704679838292721,0.060061191644870185,0.0624811161089809,0.0642967962417053,0.06550403021886134,0.06610411697148891,0.06610373569802566,0.06551477985685214,0.06435414801867105,0.06264349429518744,0.06040894136669336,0.05768075940432769,0.05449301442119006,0.05088318978871132,0.04689178481962994,0.04256189444586969,0.03793877410817717,0.03306939402453296,0.028001987016406545,0.022785594046535993,0.0174696115600402,0.012103344623592601,0.0067355697266579615,0.0014141109462519055,-0.003814567015599019,-0.008905745632238124,-0.013816816145799691,-0.018507617175793602,-0.02294074385134934,-0.027081826278500816,-0.03089977547026996,-0.03436699519408767,-0.03745955852516259,-0.04015734823265018,-0.04244416046479416,-0.044307771536565496,-0.04573996795574687,-0.04673654014804028,-0.047297240655876815,-0.047425707886590236,-0.04712935677106305,-0.046419237961627134,-0.045309867445874404,-0.043819028679285235,-0.0419675495426338,-0.039779056608624686,-0.03727970935505846,-0.03449791708815441,-0.031464041438883705,-0.028210087366933777,-0.024769385651143394,-0.0211762698620657,-0.01746575080212981,-0.013673191362303326,-0.009833984682057392,-0.005983238412861408,-0.0021554677756405916,0.0016157000289450207,0.005297807650295011,0.008859833420812356,0.012272439141801227,0.015508197973409433,0.018541800793468774,0.02135023961417607,0.023912966877773122,0.026212029690498285,0.02823217829585695,0.029960948331470064,0.03138871665621225,0.03250873077390302,0.033317112114387766,0.03381283366045304,0.03399767262777024,0.03387613911318499,0.033455381822520044,0.03274507217114009,0.03175726821748479,0.030506260040428747,0.029008398304652322,0.027281907873361155,0.025346688424017886,0.02322410409973686,0.02093676428638435,0.018508297643044666,0.0159631215314598,0.013326208988529788,0.010622855365382109,0.007878446717435502,0.005118231973032728,0.0023671008343907115,-0.00035063072506022843,-0.0030114256074752588,-0.005592719740169483,-0.008073103717039226,-0.010432490562187823,-0.012652268396801728,-0.014715436948877328,-0.01660672701026707,-0.018312702115063716,-0.01982184188603942,-0.021124606670019943,-0.022213483257192163,-0.023083011651826996,-0.023729793031260382,-0.024152479194764535,-0.024351743962777863,-0.02433023713856433,-0.024092521787504793,-0.023644995722817863,-0.022995798209526307,-0.022154703010067965,-0.02113299899431757,-0.019943359623298858,-0.018599702689010022,-0.017117041752165326,-0.015511330765037322,-0.013799303397802882,-0.011998308603898855,-0.010126143962971196,-0.008200888329324621,-0.006240735289708773,-0.004263828897294836,-0.0022881030993758063,-0.0003311262153822247,0.0015900482500449495,0.0034590232560129867,0.005260191224400861,0.006978857376015313,0.008601352497042325,0.010115134341025343,0.011508876988525688,0.012772547607272717,0.013897470178817033,0.014876375882358368,0.01570343995133561,0.016374304942469907,0.0168860904791264,0.017237389650067034,0.0174282523599003,0.017460156037848746,0.017335964215961345,0.017059873585789725,0.01663735023307176,0.016075055832473678,0.01538076465835072,0.014563272332310353,0.013632297283705259,0.012598375944735363,0.0114727527373977,0.010267265934959647,0.008994230495923272,0.007666318973667978,0.006296441600245269,0.004897626628402531,0.0034829019921468938,0.0020651793134262436,0.0006571412412614961,-0.0007288669395265717,-0.002080940549440046,-0.0033877127880013384,-0.004638445292072909,-0.005823111305448766,-0.006932470865489436,-0.00795813749541695,-0.008892635976649802,-0.009729450863399249,-0.01046306549087825,-0.011088991318032888,-0.011603787534921453,-0.012005070952931506,-0.012291516282185912,-0.012462846984014142,-0.012519816966564363,-0.012464183467854306,-0.012298671542208785,-0.01202693063255778,-0.011653483771981964,-0.01118367001276158,-0.01062358072964008,-0.009979990485751397,-0.009260283184442098,-0.00847237425786981,-0.007624629663684573,-0.006725782474240829,-0.005784847848695644,-0.004811037177094892,-0.0038136721772970704,-0.0028020997105422324,-0.001785608059911886,-0.0007733453881600945,0.0002257589421918932,0.0012030695426148428,0.002150316066272142,0.0030596596181843017,0.003923754008773098,0.004735801407496836,0.00548960201192634,0.006179597408516283,0.006800907363902255,0.007349359849221375,0.00782151416411907,0.008214677091181576,0.008526912074963942,0.008757041482006435,0.008904642058721927,0.00897003376228793,0.00895426219521577,0.008859074926653006,0.00868689203230376,0.008440771229755615,0.008124368026663454,0.00774189133537955,0.007298055039003757,0.006798026020273373,0.006247369186078526,0.005651990036591732,0.00501807533899127,0.004352032471545063,0.003660428004459883,0.00294992607947949,0.0022272271408795914,0.0014990075564362275,0.0007718606483532467,5.2239631287002205e-05,-0.0006535970722197581,-0.0013396376990653573,-0.0020001657896392606,-0.0026298052392980113,-0.003223561427270097,-0.0037768581344536194,-0.004285570004778822,-0.004746050349346701,-0.005155154137995986,-0.005510256068878949,-0.005809263652619018,-0.006050625293266746,-0.006233333393172553,-0.006356922552663616,-0.006421462977684192,-0.0064275492489860656,-0.006376284644714508,-0.006269261244028889,-0.006108536072454894,-0.0058966035797468775,-0.005636364767936454,-0.005331093310779253,-0.004984399025844052,-0.004600189076906273,-0.004182627297040082,-0.003736092031805603,-0.003265132907195334,-0.0027744269285662052,-0.0022687343146958142,-0.0017528544654576228,-0.0012315824525293267,-0.0007096664101812165,-0.00019176618770948568,0.0003175863933113863,0.0008140253548686479,0.001293386152891012,0.0017517387693403597,0.0021854180608360746,0.002591051147914678,0.002965581659652094,0.0033062906800452813,0.0036108142749570887,0.0038771575112753324,0.0041037049129202694,0.004289227331155363,0.004432885239030596,0.004534228491431735,0.004593192622857678,0.004610091784447933,0.004585608449695375],\"yaxis\":\"y\",\"type\":\"scatter\"}],                        {\"template\":{\"data\":{\"bar\":[{\"error_x\":{\"color\":\"#2a3f5f\"},\"error_y\":{\"color\":\"#2a3f5f\"},\"marker\":{\"line\":{\"color\":\"#E5ECF6\",\"width\":0.5},\"pattern\":{\"fillmode\":\"overlay\",\"size\":10,\"solidity\":0.2}},\"type\":\"bar\"}],\"barpolar\":[{\"marker\":{\"line\":{\"color\":\"#E5ECF6\",\"width\":0.5},\"pattern\":{\"fillmode\":\"overlay\",\"size\":10,\"solidity\":0.2}},\"type\":\"barpolar\"}],\"carpet\":[{\"aaxis\":{\"endlinecolor\":\"#2a3f5f\",\"gridcolor\":\"white\",\"linecolor\":\"white\",\"minorgridcolor\":\"white\",\"startlinecolor\":\"#2a3f5f\"},\"baxis\":{\"endlinecolor\":\"#2a3f5f\",\"gridcolor\":\"white\",\"linecolor\":\"white\",\"minorgridcolor\":\"white\",\"startlinecolor\":\"#2a3f5f\"},\"type\":\"carpet\"}],\"choropleth\":[{\"colorbar\":{\"outlinewidth\":0,\"ticks\":\"\"},\"type\":\"choropleth\"}],\"contour\":[{\"colorbar\":{\"outlinewidth\":0,\"ticks\":\"\"},\"colorscale\":[[0.0,\"#0d0887\"],[0.1111111111111111,\"#46039f\"],[0.2222222222222222,\"#7201a8\"],[0.3333333333333333,\"#9c179e\"],[0.4444444444444444,\"#bd3786\"],[0.5555555555555556,\"#d8576b\"],[0.6666666666666666,\"#ed7953\"],[0.7777777777777778,\"#fb9f3a\"],[0.8888888888888888,\"#fdca26\"],[1.0,\"#f0f921\"]],\"type\":\"contour\"}],\"contourcarpet\":[{\"colorbar\":{\"outlinewidth\":0,\"ticks\":\"\"},\"type\":\"contourcarpet\"}],\"heatmap\":[{\"colorbar\":{\"outlinewidth\":0,\"ticks\":\"\"},\"colorscale\":[[0.0,\"#0d0887\"],[0.1111111111111111,\"#46039f\"],[0.2222222222222222,\"#7201a8\"],[0.3333333333333333,\"#9c179e\"],[0.4444444444444444,\"#bd3786\"],[0.5555555555555556,\"#d8576b\"],[0.6666666666666666,\"#ed7953\"],[0.7777777777777778,\"#fb9f3a\"],[0.8888888888888888,\"#fdca26\"],[1.0,\"#f0f921\"]],\"type\":\"heatmap\"}],\"heatmapgl\":[{\"colorbar\":{\"outlinewidth\":0,\"ticks\":\"\"},\"colorscale\":[[0.0,\"#0d0887\"],[0.1111111111111111,\"#46039f\"],[0.2222222222222222,\"#7201a8\"],[0.3333333333333333,\"#9c179e\"],[0.4444444444444444,\"#bd3786\"],[0.5555555555555556,\"#d8576b\"],[0.6666666666666666,\"#ed7953\"],[0.7777777777777778,\"#fb9f3a\"],[0.8888888888888888,\"#fdca26\"],[1.0,\"#f0f921\"]],\"type\":\"heatmapgl\"}],\"histogram\":[{\"marker\":{\"pattern\":{\"fillmode\":\"overlay\",\"size\":10,\"solidity\":0.2}},\"type\":\"histogram\"}],\"histogram2d\":[{\"colorbar\":{\"outlinewidth\":0,\"ticks\":\"\"},\"colorscale\":[[0.0,\"#0d0887\"],[0.1111111111111111,\"#46039f\"],[0.2222222222222222,\"#7201a8\"],[0.3333333333333333,\"#9c179e\"],[0.4444444444444444,\"#bd3786\"],[0.5555555555555556,\"#d8576b\"],[0.6666666666666666,\"#ed7953\"],[0.7777777777777778,\"#fb9f3a\"],[0.8888888888888888,\"#fdca26\"],[1.0,\"#f0f921\"]],\"type\":\"histogram2d\"}],\"histogram2dcontour\":[{\"colorbar\":{\"outlinewidth\":0,\"ticks\":\"\"},\"colorscale\":[[0.0,\"#0d0887\"],[0.1111111111111111,\"#46039f\"],[0.2222222222222222,\"#7201a8\"],[0.3333333333333333,\"#9c179e\"],[0.4444444444444444,\"#bd3786\"],[0.5555555555555556,\"#d8576b\"],[0.6666666666666666,\"#ed7953\"],[0.7777777777777778,\"#fb9f3a\"],[0.8888888888888888,\"#fdca26\"],[1.0,\"#f0f921\"]],\"type\":\"histogram2dcontour\"}],\"mesh3d\":[{\"colorbar\":{\"outlinewidth\":0,\"ticks\":\"\"},\"type\":\"mesh3d\"}],\"parcoords\":[{\"line\":{\"colorbar\":{\"outlinewidth\":0,\"ticks\":\"\"}},\"type\":\"parcoords\"}],\"pie\":[{\"automargin\":true,\"type\":\"pie\"}],\"scatter\":[{\"marker\":{\"colorbar\":{\"outlinewidth\":0,\"ticks\":\"\"}},\"type\":\"scatter\"}],\"scatter3d\":[{\"line\":{\"colorbar\":{\"outlinewidth\":0,\"ticks\":\"\"}},\"marker\":{\"colorbar\":{\"outlinewidth\":0,\"ticks\":\"\"}},\"type\":\"scatter3d\"}],\"scattercarpet\":[{\"marker\":{\"colorbar\":{\"outlinewidth\":0,\"ticks\":\"\"}},\"type\":\"scattercarpet\"}],\"scattergeo\":[{\"marker\":{\"colorbar\":{\"outlinewidth\":0,\"ticks\":\"\"}},\"type\":\"scattergeo\"}],\"scattergl\":[{\"marker\":{\"colorbar\":{\"outlinewidth\":0,\"ticks\":\"\"}},\"type\":\"scattergl\"}],\"scattermapbox\":[{\"marker\":{\"colorbar\":{\"outlinewidth\":0,\"ticks\":\"\"}},\"type\":\"scattermapbox\"}],\"scatterpolar\":[{\"marker\":{\"colorbar\":{\"outlinewidth\":0,\"ticks\":\"\"}},\"type\":\"scatterpolar\"}],\"scatterpolargl\":[{\"marker\":{\"colorbar\":{\"outlinewidth\":0,\"ticks\":\"\"}},\"type\":\"scatterpolargl\"}],\"scatterternary\":[{\"marker\":{\"colorbar\":{\"outlinewidth\":0,\"ticks\":\"\"}},\"type\":\"scatterternary\"}],\"surface\":[{\"colorbar\":{\"outlinewidth\":0,\"ticks\":\"\"},\"colorscale\":[[0.0,\"#0d0887\"],[0.1111111111111111,\"#46039f\"],[0.2222222222222222,\"#7201a8\"],[0.3333333333333333,\"#9c179e\"],[0.4444444444444444,\"#bd3786\"],[0.5555555555555556,\"#d8576b\"],[0.6666666666666666,\"#ed7953\"],[0.7777777777777778,\"#fb9f3a\"],[0.8888888888888888,\"#fdca26\"],[1.0,\"#f0f921\"]],\"type\":\"surface\"}],\"table\":[{\"cells\":{\"fill\":{\"color\":\"#EBF0F8\"},\"line\":{\"color\":\"white\"}},\"header\":{\"fill\":{\"color\":\"#C8D4E3\"},\"line\":{\"color\":\"white\"}},\"type\":\"table\"}]},\"layout\":{\"annotationdefaults\":{\"arrowcolor\":\"#2a3f5f\",\"arrowhead\":0,\"arrowwidth\":1},\"autotypenumbers\":\"strict\",\"coloraxis\":{\"colorbar\":{\"outlinewidth\":0,\"ticks\":\"\"}},\"colorscale\":{\"diverging\":[[0,\"#8e0152\"],[0.1,\"#c51b7d\"],[0.2,\"#de77ae\"],[0.3,\"#f1b6da\"],[0.4,\"#fde0ef\"],[0.5,\"#f7f7f7\"],[0.6,\"#e6f5d0\"],[0.7,\"#b8e186\"],[0.8,\"#7fbc41\"],[0.9,\"#4d9221\"],[1,\"#276419\"]],\"sequential\":[[0.0,\"#0d0887\"],[0.1111111111111111,\"#46039f\"],[0.2222222222222222,\"#7201a8\"],[0.3333333333333333,\"#9c179e\"],[0.4444444444444444,\"#bd3786\"],[0.5555555555555556,\"#d8576b\"],[0.6666666666666666,\"#ed7953\"],[0.7777777777777778,\"#fb9f3a\"],[0.8888888888888888,\"#fdca26\"],[1.0,\"#f0f921\"]],\"sequentialminus\":[[0.0,\"#0d0887\"],[0.1111111111111111,\"#46039f\"],[0.2222222222222222,\"#7201a8\"],[0.3333333333333333,\"#9c179e\"],[0.4444444444444444,\"#bd3786\"],[0.5555555555555556,\"#d8576b\"],[0.6666666666666666,\"#ed7953\"],[0.7777777777777778,\"#fb9f3a\"],[0.8888888888888888,\"#fdca26\"],[1.0,\"#f0f921\"]]},\"colorway\":[\"#636efa\",\"#EF553B\",\"#00cc96\",\"#ab63fa\",\"#FFA15A\",\"#19d3f3\",\"#FF6692\",\"#B6E880\",\"#FF97FF\",\"#FECB52\"],\"font\":{\"color\":\"#2a3f5f\"},\"geo\":{\"bgcolor\":\"white\",\"lakecolor\":\"white\",\"landcolor\":\"#E5ECF6\",\"showlakes\":true,\"showland\":true,\"subunitcolor\":\"white\"},\"hoverlabel\":{\"align\":\"left\"},\"hovermode\":\"closest\",\"mapbox\":{\"style\":\"light\"},\"paper_bgcolor\":\"white\",\"plot_bgcolor\":\"#E5ECF6\",\"polar\":{\"angularaxis\":{\"gridcolor\":\"white\",\"linecolor\":\"white\",\"ticks\":\"\"},\"bgcolor\":\"#E5ECF6\",\"radialaxis\":{\"gridcolor\":\"white\",\"linecolor\":\"white\",\"ticks\":\"\"}},\"scene\":{\"xaxis\":{\"backgroundcolor\":\"#E5ECF6\",\"gridcolor\":\"white\",\"gridwidth\":2,\"linecolor\":\"white\",\"showbackground\":true,\"ticks\":\"\",\"zerolinecolor\":\"white\"},\"yaxis\":{\"backgroundcolor\":\"#E5ECF6\",\"gridcolor\":\"white\",\"gridwidth\":2,\"linecolor\":\"white\",\"showbackground\":true,\"ticks\":\"\",\"zerolinecolor\":\"white\"},\"zaxis\":{\"backgroundcolor\":\"#E5ECF6\",\"gridcolor\":\"white\",\"gridwidth\":2,\"linecolor\":\"white\",\"showbackground\":true,\"ticks\":\"\",\"zerolinecolor\":\"white\"}},\"shapedefaults\":{\"line\":{\"color\":\"#2a3f5f\"}},\"ternary\":{\"aaxis\":{\"gridcolor\":\"white\",\"linecolor\":\"white\",\"ticks\":\"\"},\"baxis\":{\"gridcolor\":\"white\",\"linecolor\":\"white\",\"ticks\":\"\"},\"bgcolor\":\"#E5ECF6\",\"caxis\":{\"gridcolor\":\"white\",\"linecolor\":\"white\",\"ticks\":\"\"}},\"title\":{\"x\":0.05},\"xaxis\":{\"automargin\":true,\"gridcolor\":\"white\",\"linecolor\":\"white\",\"ticks\":\"\",\"title\":{\"standoff\":15},\"zerolinecolor\":\"white\",\"zerolinewidth\":2},\"yaxis\":{\"automargin\":true,\"gridcolor\":\"white\",\"linecolor\":\"white\",\"ticks\":\"\",\"title\":{\"standoff\":15},\"zerolinecolor\":\"white\",\"zerolinewidth\":2}}},\"xaxis\":{\"anchor\":\"y\",\"domain\":[0.0,1.0],\"title\":{\"text\":\"x\"}},\"yaxis\":{\"anchor\":\"x\",\"domain\":[0.0,1.0],\"title\":{\"text\":\"y\"}},\"legend\":{\"tracegroupgap\":0},\"margin\":{\"t\":60}},                        {\"responsive\": true}                    ).then(function(){\n",
              "                            \n",
              "var gd = document.getElementById('2d3d204f-7d5d-4816-96b1-72bc1145f335');\n",
              "var x = new MutationObserver(function (mutations, observer) {{\n",
              "        var display = window.getComputedStyle(gd).display;\n",
              "        if (!display || display === 'none') {{\n",
              "            console.log([gd, 'removed!']);\n",
              "            Plotly.purge(gd);\n",
              "            observer.disconnect();\n",
              "        }}\n",
              "}});\n",
              "\n",
              "// Listen for the removal of the full notebook cells\n",
              "var notebookContainer = gd.closest('#notebook-container');\n",
              "if (notebookContainer) {{\n",
              "    x.observe(notebookContainer, {childList: true});\n",
              "}}\n",
              "\n",
              "// Listen for the clearing of the current output cell\n",
              "var outputEl = gd.closest('.output');\n",
              "if (outputEl) {{\n",
              "    x.observe(outputEl, {childList: true});\n",
              "}}\n",
              "\n",
              "                        })                };                            </script>        </div>\n",
              "</body>\n",
              "</html>"
            ]
          },
          "metadata": {}
        },
        {
          "output_type": "stream",
          "name": "stdout",
          "text": [
            "UNDER DAMPING\n"
          ]
        }
      ]
    }
  ],
  "metadata": {
    "colab": {
      "provenance": [],
      "include_colab_link": true
    },
    "kernelspec": {
      "display_name": "Python 3",
      "name": "python3"
    },
    "language_info": {
      "name": "python"
    }
  },
  "nbformat": 4,
  "nbformat_minor": 0
}